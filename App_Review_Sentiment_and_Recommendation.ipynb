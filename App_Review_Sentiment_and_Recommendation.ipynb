{
 "cells": [
  {
   "cell_type": "markdown",
   "id": "8d52386b",
   "metadata": {},
   "source": [
    "# Google Play Store App Review Analysis & LLM-Powered Recommendations"
   ]
  },
  {
   "cell_type": "markdown",
   "id": "8de6ebaa",
   "metadata": {},
   "source": [
    "# Task 1. Exploration"
   ]
  },
  {
   "cell_type": "markdown",
   "id": "d6b50f3a",
   "metadata": {},
   "source": [
    "## Data Loading & Setup"
   ]
  },
  {
   "cell_type": "markdown",
   "id": "d11a7b22",
   "metadata": {},
   "source": [
    "### Install and Import Required Libraries"
   ]
  },
  {
   "cell_type": "code",
   "execution_count": 1,
   "id": "f5685f44",
   "metadata": {},
   "outputs": [
    {
     "name": "stdout",
     "output_type": "stream",
     "text": [
      "Requirement already satisfied: kagglehub in c:\\users\\jeshw\\miniconda3\\envs\\gapps_sentiment_analysis\\lib\\site-packages (0.3.13)\n",
      "Requirement already satisfied: packaging in c:\\users\\jeshw\\miniconda3\\envs\\gapps_sentiment_analysis\\lib\\site-packages (from kagglehub) (25.0)\n",
      "Requirement already satisfied: pyyaml in c:\\users\\jeshw\\miniconda3\\envs\\gapps_sentiment_analysis\\lib\\site-packages (from kagglehub) (6.0.2)\n",
      "Requirement already satisfied: requests in c:\\users\\jeshw\\miniconda3\\envs\\gapps_sentiment_analysis\\lib\\site-packages (from kagglehub) (2.32.5)\n",
      "Requirement already satisfied: tqdm in c:\\users\\jeshw\\miniconda3\\envs\\gapps_sentiment_analysis\\lib\\site-packages (from kagglehub) (4.67.1)\n",
      "Requirement already satisfied: charset_normalizer<4,>=2 in c:\\users\\jeshw\\miniconda3\\envs\\gapps_sentiment_analysis\\lib\\site-packages (from requests->kagglehub) (3.4.3)\n",
      "Requirement already satisfied: idna<4,>=2.5 in c:\\users\\jeshw\\miniconda3\\envs\\gapps_sentiment_analysis\\lib\\site-packages (from requests->kagglehub) (3.10)\n",
      "Requirement already satisfied: urllib3<3,>=1.21.1 in c:\\users\\jeshw\\miniconda3\\envs\\gapps_sentiment_analysis\\lib\\site-packages (from requests->kagglehub) (2.5.0)\n",
      "Requirement already satisfied: certifi>=2017.4.17 in c:\\users\\jeshw\\miniconda3\\envs\\gapps_sentiment_analysis\\lib\\site-packages (from requests->kagglehub) (2025.8.3)\n",
      "Requirement already satisfied: colorama in c:\\users\\jeshw\\miniconda3\\envs\\gapps_sentiment_analysis\\lib\\site-packages (from tqdm->kagglehub) (0.4.6)\n",
      "Note: you may need to restart the kernel to use updated packages.\n",
      "Requirement already satisfied: pandas in c:\\users\\jeshw\\miniconda3\\envs\\gapps_sentiment_analysis\\lib\\site-packages (2.3.2)\n",
      "Requirement already satisfied: numpy>=1.26.0 in c:\\users\\jeshw\\miniconda3\\envs\\gapps_sentiment_analysis\\lib\\site-packages (from pandas) (2.3.3)\n",
      "Requirement already satisfied: python-dateutil>=2.8.2 in c:\\users\\jeshw\\miniconda3\\envs\\gapps_sentiment_analysis\\lib\\site-packages (from pandas) (2.9.0.post0)\n",
      "Requirement already satisfied: pytz>=2020.1 in c:\\users\\jeshw\\miniconda3\\envs\\gapps_sentiment_analysis\\lib\\site-packages (from pandas) (2025.2)\n",
      "Requirement already satisfied: tzdata>=2022.7 in c:\\users\\jeshw\\miniconda3\\envs\\gapps_sentiment_analysis\\lib\\site-packages (from pandas) (2025.2)\n",
      "Requirement already satisfied: six>=1.5 in c:\\users\\jeshw\\miniconda3\\envs\\gapps_sentiment_analysis\\lib\\site-packages (from python-dateutil>=2.8.2->pandas) (1.17.0)\n",
      "Note: you may need to restart the kernel to use updated packages.\n",
      "Requirement already satisfied: matplotlib in c:\\users\\jeshw\\miniconda3\\envs\\gapps_sentiment_analysis\\lib\\site-packages (3.10.6)\n",
      "Requirement already satisfied: contourpy>=1.0.1 in c:\\users\\jeshw\\miniconda3\\envs\\gapps_sentiment_analysis\\lib\\site-packages (from matplotlib) (1.3.3)\n",
      "Requirement already satisfied: cycler>=0.10 in c:\\users\\jeshw\\miniconda3\\envs\\gapps_sentiment_analysis\\lib\\site-packages (from matplotlib) (0.12.1)\n",
      "Requirement already satisfied: fonttools>=4.22.0 in c:\\users\\jeshw\\miniconda3\\envs\\gapps_sentiment_analysis\\lib\\site-packages (from matplotlib) (4.59.2)\n",
      "Requirement already satisfied: kiwisolver>=1.3.1 in c:\\users\\jeshw\\miniconda3\\envs\\gapps_sentiment_analysis\\lib\\site-packages (from matplotlib) (1.4.9)\n",
      "Requirement already satisfied: numpy>=1.23 in c:\\users\\jeshw\\miniconda3\\envs\\gapps_sentiment_analysis\\lib\\site-packages (from matplotlib) (2.3.3)\n",
      "Requirement already satisfied: packaging>=20.0 in c:\\users\\jeshw\\miniconda3\\envs\\gapps_sentiment_analysis\\lib\\site-packages (from matplotlib) (25.0)\n",
      "Requirement already satisfied: pillow>=8 in c:\\users\\jeshw\\miniconda3\\envs\\gapps_sentiment_analysis\\lib\\site-packages (from matplotlib) (11.3.0)\n",
      "Requirement already satisfied: pyparsing>=2.3.1 in c:\\users\\jeshw\\miniconda3\\envs\\gapps_sentiment_analysis\\lib\\site-packages (from matplotlib) (3.2.4)\n",
      "Requirement already satisfied: python-dateutil>=2.7 in c:\\users\\jeshw\\miniconda3\\envs\\gapps_sentiment_analysis\\lib\\site-packages (from matplotlib) (2.9.0.post0)\n",
      "Requirement already satisfied: six>=1.5 in c:\\users\\jeshw\\miniconda3\\envs\\gapps_sentiment_analysis\\lib\\site-packages (from python-dateutil>=2.7->matplotlib) (1.17.0)\n",
      "Note: you may need to restart the kernel to use updated packages.\n",
      "Requirement already satisfied: seaborn in c:\\users\\jeshw\\miniconda3\\envs\\gapps_sentiment_analysis\\lib\\site-packages (0.13.2)\n",
      "Requirement already satisfied: numpy!=1.24.0,>=1.20 in c:\\users\\jeshw\\miniconda3\\envs\\gapps_sentiment_analysis\\lib\\site-packages (from seaborn) (2.3.3)\n",
      "Requirement already satisfied: pandas>=1.2 in c:\\users\\jeshw\\miniconda3\\envs\\gapps_sentiment_analysis\\lib\\site-packages (from seaborn) (2.3.2)\n",
      "Requirement already satisfied: matplotlib!=3.6.1,>=3.4 in c:\\users\\jeshw\\miniconda3\\envs\\gapps_sentiment_analysis\\lib\\site-packages (from seaborn) (3.10.6)\n",
      "Requirement already satisfied: contourpy>=1.0.1 in c:\\users\\jeshw\\miniconda3\\envs\\gapps_sentiment_analysis\\lib\\site-packages (from matplotlib!=3.6.1,>=3.4->seaborn) (1.3.3)\n",
      "Requirement already satisfied: cycler>=0.10 in c:\\users\\jeshw\\miniconda3\\envs\\gapps_sentiment_analysis\\lib\\site-packages (from matplotlib!=3.6.1,>=3.4->seaborn) (0.12.1)\n",
      "Requirement already satisfied: fonttools>=4.22.0 in c:\\users\\jeshw\\miniconda3\\envs\\gapps_sentiment_analysis\\lib\\site-packages (from matplotlib!=3.6.1,>=3.4->seaborn) (4.59.2)\n",
      "Requirement already satisfied: kiwisolver>=1.3.1 in c:\\users\\jeshw\\miniconda3\\envs\\gapps_sentiment_analysis\\lib\\site-packages (from matplotlib!=3.6.1,>=3.4->seaborn) (1.4.9)\n",
      "Requirement already satisfied: packaging>=20.0 in c:\\users\\jeshw\\miniconda3\\envs\\gapps_sentiment_analysis\\lib\\site-packages (from matplotlib!=3.6.1,>=3.4->seaborn) (25.0)\n",
      "Requirement already satisfied: pillow>=8 in c:\\users\\jeshw\\miniconda3\\envs\\gapps_sentiment_analysis\\lib\\site-packages (from matplotlib!=3.6.1,>=3.4->seaborn) (11.3.0)\n",
      "Requirement already satisfied: pyparsing>=2.3.1 in c:\\users\\jeshw\\miniconda3\\envs\\gapps_sentiment_analysis\\lib\\site-packages (from matplotlib!=3.6.1,>=3.4->seaborn) (3.2.4)\n",
      "Requirement already satisfied: python-dateutil>=2.7 in c:\\users\\jeshw\\miniconda3\\envs\\gapps_sentiment_analysis\\lib\\site-packages (from matplotlib!=3.6.1,>=3.4->seaborn) (2.9.0.post0)\n",
      "Requirement already satisfied: pytz>=2020.1 in c:\\users\\jeshw\\miniconda3\\envs\\gapps_sentiment_analysis\\lib\\site-packages (from pandas>=1.2->seaborn) (2025.2)\n",
      "Requirement already satisfied: tzdata>=2022.7 in c:\\users\\jeshw\\miniconda3\\envs\\gapps_sentiment_analysis\\lib\\site-packages (from pandas>=1.2->seaborn) (2025.2)\n",
      "Requirement already satisfied: six>=1.5 in c:\\users\\jeshw\\miniconda3\\envs\\gapps_sentiment_analysis\\lib\\site-packages (from python-dateutil>=2.7->matplotlib!=3.6.1,>=3.4->seaborn) (1.17.0)\n",
      "Note: you may need to restart the kernel to use updated packages.\n",
      "Requirement already satisfied: langdetect in c:\\users\\jeshw\\miniconda3\\envs\\gapps_sentiment_analysis\\lib\\site-packages (1.0.9)\n",
      "Requirement already satisfied: six in c:\\users\\jeshw\\miniconda3\\envs\\gapps_sentiment_analysis\\lib\\site-packages (from langdetect) (1.17.0)\n",
      "Note: you may need to restart the kernel to use updated packages.\n",
      "Requirement already satisfied: scikit-learn in c:\\users\\jeshw\\miniconda3\\envs\\gapps_sentiment_analysis\\lib\\site-packages (1.7.2)\n",
      "Requirement already satisfied: numpy>=1.22.0 in c:\\users\\jeshw\\miniconda3\\envs\\gapps_sentiment_analysis\\lib\\site-packages (from scikit-learn) (2.3.3)\n",
      "Requirement already satisfied: scipy>=1.8.0 in c:\\users\\jeshw\\miniconda3\\envs\\gapps_sentiment_analysis\\lib\\site-packages (from scikit-learn) (1.16.2)\n",
      "Requirement already satisfied: joblib>=1.2.0 in c:\\users\\jeshw\\miniconda3\\envs\\gapps_sentiment_analysis\\lib\\site-packages (from scikit-learn) (1.5.2)\n",
      "Requirement already satisfied: threadpoolctl>=3.1.0 in c:\\users\\jeshw\\miniconda3\\envs\\gapps_sentiment_analysis\\lib\\site-packages (from scikit-learn) (3.6.0)\n",
      "Note: you may need to restart the kernel to use updated packages.\n",
      "Requirement already satisfied: nltk in c:\\users\\jeshw\\miniconda3\\envs\\gapps_sentiment_analysis\\lib\\site-packages (3.9.1)\n",
      "Requirement already satisfied: click in c:\\users\\jeshw\\miniconda3\\envs\\gapps_sentiment_analysis\\lib\\site-packages (from nltk) (8.2.1)\n",
      "Requirement already satisfied: joblib in c:\\users\\jeshw\\miniconda3\\envs\\gapps_sentiment_analysis\\lib\\site-packages (from nltk) (1.5.2)\n",
      "Requirement already satisfied: regex>=2021.8.3 in c:\\users\\jeshw\\miniconda3\\envs\\gapps_sentiment_analysis\\lib\\site-packages (from nltk) (2025.9.1)\n",
      "Requirement already satisfied: tqdm in c:\\users\\jeshw\\miniconda3\\envs\\gapps_sentiment_analysis\\lib\\site-packages (from nltk) (4.67.1)\n",
      "Requirement already satisfied: colorama in c:\\users\\jeshw\\miniconda3\\envs\\gapps_sentiment_analysis\\lib\\site-packages (from click->nltk) (0.4.6)\n",
      "Note: you may need to restart the kernel to use updated packages.\n",
      "Requirement already satisfied: openai in c:\\users\\jeshw\\miniconda3\\envs\\gapps_sentiment_analysis\\lib\\site-packages (1.107.3)\n",
      "Requirement already satisfied: anyio<5,>=3.5.0 in c:\\users\\jeshw\\miniconda3\\envs\\gapps_sentiment_analysis\\lib\\site-packages (from openai) (4.10.0)\n",
      "Requirement already satisfied: distro<2,>=1.7.0 in c:\\users\\jeshw\\miniconda3\\envs\\gapps_sentiment_analysis\\lib\\site-packages (from openai) (1.9.0)\n",
      "Requirement already satisfied: httpx<1,>=0.23.0 in c:\\users\\jeshw\\miniconda3\\envs\\gapps_sentiment_analysis\\lib\\site-packages (from openai) (0.28.1)\n",
      "Requirement already satisfied: jiter<1,>=0.4.0 in c:\\users\\jeshw\\miniconda3\\envs\\gapps_sentiment_analysis\\lib\\site-packages (from openai) (0.11.0)\n",
      "Requirement already satisfied: pydantic<3,>=1.9.0 in c:\\users\\jeshw\\miniconda3\\envs\\gapps_sentiment_analysis\\lib\\site-packages (from openai) (2.11.9)\n",
      "Requirement already satisfied: sniffio in c:\\users\\jeshw\\miniconda3\\envs\\gapps_sentiment_analysis\\lib\\site-packages (from openai) (1.3.1)\n",
      "Requirement already satisfied: tqdm>4 in c:\\users\\jeshw\\miniconda3\\envs\\gapps_sentiment_analysis\\lib\\site-packages (from openai) (4.67.1)\n",
      "Requirement already satisfied: typing-extensions<5,>=4.11 in c:\\users\\jeshw\\miniconda3\\envs\\gapps_sentiment_analysis\\lib\\site-packages (from openai) (4.15.0)\n",
      "Requirement already satisfied: idna>=2.8 in c:\\users\\jeshw\\miniconda3\\envs\\gapps_sentiment_analysis\\lib\\site-packages (from anyio<5,>=3.5.0->openai) (3.10)\n",
      "Requirement already satisfied: certifi in c:\\users\\jeshw\\miniconda3\\envs\\gapps_sentiment_analysis\\lib\\site-packages (from httpx<1,>=0.23.0->openai) (2025.8.3)\n",
      "Requirement already satisfied: httpcore==1.* in c:\\users\\jeshw\\miniconda3\\envs\\gapps_sentiment_analysis\\lib\\site-packages (from httpx<1,>=0.23.0->openai) (1.0.9)\n",
      "Requirement already satisfied: h11>=0.16 in c:\\users\\jeshw\\miniconda3\\envs\\gapps_sentiment_analysis\\lib\\site-packages (from httpcore==1.*->httpx<1,>=0.23.0->openai) (0.16.0)\n",
      "Requirement already satisfied: annotated-types>=0.6.0 in c:\\users\\jeshw\\miniconda3\\envs\\gapps_sentiment_analysis\\lib\\site-packages (from pydantic<3,>=1.9.0->openai) (0.7.0)\n",
      "Requirement already satisfied: pydantic-core==2.33.2 in c:\\users\\jeshw\\miniconda3\\envs\\gapps_sentiment_analysis\\lib\\site-packages (from pydantic<3,>=1.9.0->openai) (2.33.2)\n",
      "Requirement already satisfied: typing-inspection>=0.4.0 in c:\\users\\jeshw\\miniconda3\\envs\\gapps_sentiment_analysis\\lib\\site-packages (from pydantic<3,>=1.9.0->openai) (0.4.1)\n",
      "Requirement already satisfied: colorama in c:\\users\\jeshw\\miniconda3\\envs\\gapps_sentiment_analysis\\lib\\site-packages (from tqdm>4->openai) (0.4.6)\n",
      "Note: you may need to restart the kernel to use updated packages.\n"
     ]
    },
    {
     "name": "stderr",
     "output_type": "stream",
     "text": [
      "c:\\Users\\jeshw\\miniconda3\\envs\\gapps_sentiment_analysis\\Lib\\site-packages\\tqdm\\auto.py:21: TqdmWarning: IProgress not found. Please update jupyter and ipywidgets. See https://ipywidgets.readthedocs.io/en/stable/user_install.html\n",
      "  from .autonotebook import tqdm as notebook_tqdm\n"
     ]
    }
   ],
   "source": [
    "%pip install kagglehub\n",
    "%pip install pandas\n",
    "%pip install matplotlib\n",
    "%pip install seaborn\n",
    "%pip install langdetect\n",
    "%pip install scikit-learn\n",
    "%pip install nltk\n",
    "%pip install openai\n",
    "\n",
    "import os\n",
    "\n",
    "import kagglehub\n",
    "import matplotlib.pyplot as plt\n",
    "import pandas as pd\n",
    "import seaborn as sns"
   ]
  },
  {
   "cell_type": "markdown",
   "id": "bffd406e",
   "metadata": {},
   "source": [
    "### Download and Load Data"
   ]
  },
  {
   "cell_type": "code",
   "execution_count": 2,
   "id": "5f74d9ea",
   "metadata": {},
   "outputs": [
    {
     "name": "stdout",
     "output_type": "stream",
     "text": [
      "Path to dataset files: C:\\Users\\jeshw\\.cache\\kagglehub\\datasets\\lava18\\google-play-store-apps\\versions\\6\n"
     ]
    }
   ],
   "source": [
    "# Download latest version of dataset\n",
    "path = kagglehub.dataset_download(\"lava18/google-play-store-apps\")\n",
    "\n",
    "print(\"Path to dataset files:\", path)"
   ]
  },
  {
   "cell_type": "code",
   "execution_count": 3,
   "id": "30e66910",
   "metadata": {},
   "outputs": [],
   "source": [
    "project_data_dir = os.path.join(os.getcwd(), \"data/google-play-store-apps/versions/6\")\n",
    "ps_csv_path = os.path.join(project_data_dir, \"googleplaystore.csv\")\n",
    "ps_review_csv_path = os.path.join(project_data_dir, \"googleplaystore_user_reviews.csv\")\n",
    "\n",
    "ps_df = pd.read_csv(ps_csv_path)\n",
    "ps_review_df = pd.read_csv(ps_review_csv_path)"
   ]
  },
  {
   "cell_type": "markdown",
   "id": "2564e5b0",
   "metadata": {},
   "source": [
    "## Data Cleaning & Preprocessing"
   ]
  },
  {
   "cell_type": "markdown",
   "id": "1545c0d7",
   "metadata": {},
   "source": [
    "### Initial Data Exploration"
   ]
  },
  {
   "cell_type": "code",
   "execution_count": 4,
   "id": "603433f4",
   "metadata": {},
   "outputs": [
    {
     "name": "stdout",
     "output_type": "stream",
     "text": [
      "Shape: (10841, 13)\n",
      "Columns: Index(['App', 'Category', 'Rating', 'Reviews', 'Size', 'Installs', 'Type',\n",
      "       'Price', 'Content Rating', 'Genres', 'Last Updated', 'Current Ver',\n",
      "       'Android Ver'],\n",
      "      dtype='object')\n",
      "<class 'pandas.core.frame.DataFrame'>\n",
      "RangeIndex: 10841 entries, 0 to 10840\n",
      "Data columns (total 13 columns):\n",
      " #   Column          Non-Null Count  Dtype  \n",
      "---  ------          --------------  -----  \n",
      " 0   App             10841 non-null  object \n",
      " 1   Category        10841 non-null  object \n",
      " 2   Rating          9367 non-null   float64\n",
      " 3   Reviews         10841 non-null  object \n",
      " 4   Size            10841 non-null  object \n",
      " 5   Installs        10841 non-null  object \n",
      " 6   Type            10840 non-null  object \n",
      " 7   Price           10841 non-null  object \n",
      " 8   Content Rating  10840 non-null  object \n",
      " 9   Genres          10841 non-null  object \n",
      " 10  Last Updated    10841 non-null  object \n",
      " 11  Current Ver     10833 non-null  object \n",
      " 12  Android Ver     10838 non-null  object \n",
      "dtypes: float64(1), object(12)\n",
      "memory usage: 1.1+ MB\n"
     ]
    },
    {
     "data": {
      "text/plain": [
       "None"
      ]
     },
     "metadata": {},
     "output_type": "display_data"
    }
   ],
   "source": [
    "print(\"Shape:\", ps_df.shape)\n",
    "print(\"Columns:\", ps_df.columns)\n",
    "display(ps_df.info())"
   ]
  },
  {
   "cell_type": "code",
   "execution_count": 5,
   "id": "779f3ef7",
   "metadata": {},
   "outputs": [
    {
     "name": "stdout",
     "output_type": "stream",
     "text": [
      "Shape: (64295, 5)\n",
      "Columns: Index(['App', 'Translated_Review', 'Sentiment', 'Sentiment_Polarity',\n",
      "       'Sentiment_Subjectivity'],\n",
      "      dtype='object')\n",
      "<class 'pandas.core.frame.DataFrame'>\n",
      "RangeIndex: 64295 entries, 0 to 64294\n",
      "Data columns (total 5 columns):\n",
      " #   Column                  Non-Null Count  Dtype  \n",
      "---  ------                  --------------  -----  \n",
      " 0   App                     64295 non-null  object \n",
      " 1   Translated_Review       37427 non-null  object \n",
      " 2   Sentiment               37432 non-null  object \n",
      " 3   Sentiment_Polarity      37432 non-null  float64\n",
      " 4   Sentiment_Subjectivity  37432 non-null  float64\n",
      "dtypes: float64(2), object(3)\n",
      "memory usage: 2.5+ MB\n"
     ]
    },
    {
     "data": {
      "text/plain": [
       "None"
      ]
     },
     "metadata": {},
     "output_type": "display_data"
    }
   ],
   "source": [
    "print(\"Shape:\", ps_review_df.shape)\n",
    "print(\"Columns:\", ps_review_df.columns)\n",
    "display(ps_review_df.info())"
   ]
  },
  {
   "cell_type": "code",
   "execution_count": 6,
   "id": "027f56be",
   "metadata": {},
   "outputs": [
    {
     "data": {
      "text/html": [
       "<div>\n",
       "<style scoped>\n",
       "    .dataframe tbody tr th:only-of-type {\n",
       "        vertical-align: middle;\n",
       "    }\n",
       "\n",
       "    .dataframe tbody tr th {\n",
       "        vertical-align: top;\n",
       "    }\n",
       "\n",
       "    .dataframe thead th {\n",
       "        text-align: right;\n",
       "    }\n",
       "</style>\n",
       "<table border=\"1\" class=\"dataframe\">\n",
       "  <thead>\n",
       "    <tr style=\"text-align: right;\">\n",
       "      <th></th>\n",
       "      <th>App</th>\n",
       "      <th>Category</th>\n",
       "      <th>Rating</th>\n",
       "      <th>Reviews</th>\n",
       "      <th>Size</th>\n",
       "      <th>Installs</th>\n",
       "      <th>Type</th>\n",
       "      <th>Price</th>\n",
       "      <th>Content Rating</th>\n",
       "      <th>Genres</th>\n",
       "      <th>Last Updated</th>\n",
       "      <th>Current Ver</th>\n",
       "      <th>Android Ver</th>\n",
       "    </tr>\n",
       "  </thead>\n",
       "  <tbody>\n",
       "    <tr>\n",
       "      <th>0</th>\n",
       "      <td>Photo Editor &amp; Candy Camera &amp; Grid &amp; ScrapBook</td>\n",
       "      <td>ART_AND_DESIGN</td>\n",
       "      <td>4.1</td>\n",
       "      <td>159</td>\n",
       "      <td>19M</td>\n",
       "      <td>10,000+</td>\n",
       "      <td>Free</td>\n",
       "      <td>0</td>\n",
       "      <td>Everyone</td>\n",
       "      <td>Art &amp; Design</td>\n",
       "      <td>January 7, 2018</td>\n",
       "      <td>1.0.0</td>\n",
       "      <td>4.0.3 and up</td>\n",
       "    </tr>\n",
       "    <tr>\n",
       "      <th>1</th>\n",
       "      <td>Coloring book moana</td>\n",
       "      <td>ART_AND_DESIGN</td>\n",
       "      <td>3.9</td>\n",
       "      <td>967</td>\n",
       "      <td>14M</td>\n",
       "      <td>500,000+</td>\n",
       "      <td>Free</td>\n",
       "      <td>0</td>\n",
       "      <td>Everyone</td>\n",
       "      <td>Art &amp; Design;Pretend Play</td>\n",
       "      <td>January 15, 2018</td>\n",
       "      <td>2.0.0</td>\n",
       "      <td>4.0.3 and up</td>\n",
       "    </tr>\n",
       "    <tr>\n",
       "      <th>2</th>\n",
       "      <td>U Launcher Lite – FREE Live Cool Themes, Hide ...</td>\n",
       "      <td>ART_AND_DESIGN</td>\n",
       "      <td>4.7</td>\n",
       "      <td>87510</td>\n",
       "      <td>8.7M</td>\n",
       "      <td>5,000,000+</td>\n",
       "      <td>Free</td>\n",
       "      <td>0</td>\n",
       "      <td>Everyone</td>\n",
       "      <td>Art &amp; Design</td>\n",
       "      <td>August 1, 2018</td>\n",
       "      <td>1.2.4</td>\n",
       "      <td>4.0.3 and up</td>\n",
       "    </tr>\n",
       "    <tr>\n",
       "      <th>3</th>\n",
       "      <td>Sketch - Draw &amp; Paint</td>\n",
       "      <td>ART_AND_DESIGN</td>\n",
       "      <td>4.5</td>\n",
       "      <td>215644</td>\n",
       "      <td>25M</td>\n",
       "      <td>50,000,000+</td>\n",
       "      <td>Free</td>\n",
       "      <td>0</td>\n",
       "      <td>Teen</td>\n",
       "      <td>Art &amp; Design</td>\n",
       "      <td>June 8, 2018</td>\n",
       "      <td>Varies with device</td>\n",
       "      <td>4.2 and up</td>\n",
       "    </tr>\n",
       "    <tr>\n",
       "      <th>4</th>\n",
       "      <td>Pixel Draw - Number Art Coloring Book</td>\n",
       "      <td>ART_AND_DESIGN</td>\n",
       "      <td>4.3</td>\n",
       "      <td>967</td>\n",
       "      <td>2.8M</td>\n",
       "      <td>100,000+</td>\n",
       "      <td>Free</td>\n",
       "      <td>0</td>\n",
       "      <td>Everyone</td>\n",
       "      <td>Art &amp; Design;Creativity</td>\n",
       "      <td>June 20, 2018</td>\n",
       "      <td>1.1</td>\n",
       "      <td>4.4 and up</td>\n",
       "    </tr>\n",
       "  </tbody>\n",
       "</table>\n",
       "</div>"
      ],
      "text/plain": [
       "                                                 App        Category  Rating  \\\n",
       "0     Photo Editor & Candy Camera & Grid & ScrapBook  ART_AND_DESIGN     4.1   \n",
       "1                                Coloring book moana  ART_AND_DESIGN     3.9   \n",
       "2  U Launcher Lite – FREE Live Cool Themes, Hide ...  ART_AND_DESIGN     4.7   \n",
       "3                              Sketch - Draw & Paint  ART_AND_DESIGN     4.5   \n",
       "4              Pixel Draw - Number Art Coloring Book  ART_AND_DESIGN     4.3   \n",
       "\n",
       "  Reviews  Size     Installs  Type Price Content Rating  \\\n",
       "0     159   19M      10,000+  Free     0       Everyone   \n",
       "1     967   14M     500,000+  Free     0       Everyone   \n",
       "2   87510  8.7M   5,000,000+  Free     0       Everyone   \n",
       "3  215644   25M  50,000,000+  Free     0           Teen   \n",
       "4     967  2.8M     100,000+  Free     0       Everyone   \n",
       "\n",
       "                      Genres      Last Updated         Current Ver  \\\n",
       "0               Art & Design   January 7, 2018               1.0.0   \n",
       "1  Art & Design;Pretend Play  January 15, 2018               2.0.0   \n",
       "2               Art & Design    August 1, 2018               1.2.4   \n",
       "3               Art & Design      June 8, 2018  Varies with device   \n",
       "4    Art & Design;Creativity     June 20, 2018                 1.1   \n",
       "\n",
       "    Android Ver  \n",
       "0  4.0.3 and up  \n",
       "1  4.0.3 and up  \n",
       "2  4.0.3 and up  \n",
       "3    4.2 and up  \n",
       "4    4.4 and up  "
      ]
     },
     "execution_count": 6,
     "metadata": {},
     "output_type": "execute_result"
    }
   ],
   "source": [
    "ps_df.head()"
   ]
  },
  {
   "cell_type": "code",
   "execution_count": 7,
   "id": "632fc474",
   "metadata": {},
   "outputs": [
    {
     "data": {
      "text/html": [
       "<div>\n",
       "<style scoped>\n",
       "    .dataframe tbody tr th:only-of-type {\n",
       "        vertical-align: middle;\n",
       "    }\n",
       "\n",
       "    .dataframe tbody tr th {\n",
       "        vertical-align: top;\n",
       "    }\n",
       "\n",
       "    .dataframe thead th {\n",
       "        text-align: right;\n",
       "    }\n",
       "</style>\n",
       "<table border=\"1\" class=\"dataframe\">\n",
       "  <thead>\n",
       "    <tr style=\"text-align: right;\">\n",
       "      <th></th>\n",
       "      <th>App</th>\n",
       "      <th>Translated_Review</th>\n",
       "      <th>Sentiment</th>\n",
       "      <th>Sentiment_Polarity</th>\n",
       "      <th>Sentiment_Subjectivity</th>\n",
       "    </tr>\n",
       "  </thead>\n",
       "  <tbody>\n",
       "    <tr>\n",
       "      <th>0</th>\n",
       "      <td>10 Best Foods for You</td>\n",
       "      <td>I like eat delicious food. That's I'm cooking ...</td>\n",
       "      <td>Positive</td>\n",
       "      <td>1.00</td>\n",
       "      <td>0.533333</td>\n",
       "    </tr>\n",
       "    <tr>\n",
       "      <th>1</th>\n",
       "      <td>10 Best Foods for You</td>\n",
       "      <td>This help eating healthy exercise regular basis</td>\n",
       "      <td>Positive</td>\n",
       "      <td>0.25</td>\n",
       "      <td>0.288462</td>\n",
       "    </tr>\n",
       "    <tr>\n",
       "      <th>2</th>\n",
       "      <td>10 Best Foods for You</td>\n",
       "      <td>NaN</td>\n",
       "      <td>NaN</td>\n",
       "      <td>NaN</td>\n",
       "      <td>NaN</td>\n",
       "    </tr>\n",
       "    <tr>\n",
       "      <th>3</th>\n",
       "      <td>10 Best Foods for You</td>\n",
       "      <td>Works great especially going grocery store</td>\n",
       "      <td>Positive</td>\n",
       "      <td>0.40</td>\n",
       "      <td>0.875000</td>\n",
       "    </tr>\n",
       "    <tr>\n",
       "      <th>4</th>\n",
       "      <td>10 Best Foods for You</td>\n",
       "      <td>Best idea us</td>\n",
       "      <td>Positive</td>\n",
       "      <td>1.00</td>\n",
       "      <td>0.300000</td>\n",
       "    </tr>\n",
       "  </tbody>\n",
       "</table>\n",
       "</div>"
      ],
      "text/plain": [
       "                     App                                  Translated_Review  \\\n",
       "0  10 Best Foods for You  I like eat delicious food. That's I'm cooking ...   \n",
       "1  10 Best Foods for You    This help eating healthy exercise regular basis   \n",
       "2  10 Best Foods for You                                                NaN   \n",
       "3  10 Best Foods for You         Works great especially going grocery store   \n",
       "4  10 Best Foods for You                                       Best idea us   \n",
       "\n",
       "  Sentiment  Sentiment_Polarity  Sentiment_Subjectivity  \n",
       "0  Positive                1.00                0.533333  \n",
       "1  Positive                0.25                0.288462  \n",
       "2       NaN                 NaN                     NaN  \n",
       "3  Positive                0.40                0.875000  \n",
       "4  Positive                1.00                0.300000  "
      ]
     },
     "execution_count": 7,
     "metadata": {},
     "output_type": "execute_result"
    }
   ],
   "source": [
    "ps_review_df.head()"
   ]
  },
  {
   "cell_type": "markdown",
   "id": "d7dac085",
   "metadata": {},
   "source": [
    "### Data Type Conversion and Memory Optimization"
   ]
  },
  {
   "cell_type": "code",
   "execution_count": 8,
   "id": "021c9c73",
   "metadata": {},
   "outputs": [
    {
     "name": "stdout",
     "output_type": "stream",
     "text": [
      "<class 'pandas.core.frame.DataFrame'>\n",
      "RangeIndex: 10841 entries, 0 to 10840\n",
      "Data columns (total 13 columns):\n",
      " #   Column          Non-Null Count  Dtype         \n",
      "---  ------          --------------  -----         \n",
      " 0   App             10841 non-null  string        \n",
      " 1   Category        10841 non-null  category      \n",
      " 2   Rating          9367 non-null   float32       \n",
      " 3   Reviews         10840 non-null  float64       \n",
      " 4   Size            10841 non-null  object        \n",
      " 5   Installs        10840 non-null  float64       \n",
      " 6   Type            10840 non-null  category      \n",
      " 7   Price           10840 non-null  float32       \n",
      " 8   Content Rating  10840 non-null  category      \n",
      " 9   Genres          10841 non-null  category      \n",
      " 10  Last Updated    10840 non-null  datetime64[ns]\n",
      " 11  Current Ver     10833 non-null  string        \n",
      " 12  Android Ver     10838 non-null  string        \n",
      "dtypes: category(4), datetime64[ns](1), float32(2), float64(2), object(1), string(3)\n",
      "memory usage: 726.7+ KB\n"
     ]
    }
   ],
   "source": [
    "# Reduce memory footprint by downcast numeric columns and convert suitable columns to category\n",
    "\n",
    "# Numeric columns\n",
    "ps_df['Reviews'] = pd.to_numeric(ps_df['Reviews'], errors='coerce', downcast='integer')\n",
    "ps_df['Rating'] = pd.to_numeric(ps_df['Rating'], errors='coerce', downcast='float')\n",
    "ps_df['Installs'] = ps_df['Installs'].str.replace('[+,]', '', regex=True)\n",
    "ps_df['Installs'] = pd.to_numeric(ps_df['Installs'], errors='coerce', downcast='integer')\n",
    "ps_df['Price'] = ps_df['Price'].str.replace('$', '', regex=False)\n",
    "ps_df['Price'] = pd.to_numeric(ps_df['Price'], errors='coerce', downcast='float')\n",
    "\n",
    "# Categorical columns\n",
    "cat_cols = ['Category', 'Type', 'Content Rating', 'Genres']\n",
    "for col in cat_cols:\n",
    "    if col in ps_df.columns:\n",
    "        ps_df[col] = ps_df[col].astype('category')\n",
    "\n",
    "# Date column\n",
    "ps_df['Last Updated'] = pd.to_datetime(ps_df['Last Updated'], errors='coerce')\n",
    "\n",
    "# String columns\n",
    "for col in ['App', 'Current Ver', 'Android Ver']:\n",
    "    if col in ps_df.columns:\n",
    "        ps_df[col] = ps_df[col].astype('string')\n",
    "\n",
    "ps_df.info()"
   ]
  },
  {
   "cell_type": "code",
   "execution_count": 9,
   "id": "c22aa732",
   "metadata": {},
   "outputs": [
    {
     "data": {
      "text/html": [
       "<div>\n",
       "<style scoped>\n",
       "    .dataframe tbody tr th:only-of-type {\n",
       "        vertical-align: middle;\n",
       "    }\n",
       "\n",
       "    .dataframe tbody tr th {\n",
       "        vertical-align: top;\n",
       "    }\n",
       "\n",
       "    .dataframe thead th {\n",
       "        text-align: right;\n",
       "    }\n",
       "</style>\n",
       "<table border=\"1\" class=\"dataframe\">\n",
       "  <thead>\n",
       "    <tr style=\"text-align: right;\">\n",
       "      <th></th>\n",
       "      <th>App</th>\n",
       "      <th>Category</th>\n",
       "      <th>Rating</th>\n",
       "      <th>Reviews</th>\n",
       "      <th>Size</th>\n",
       "      <th>Installs</th>\n",
       "      <th>Type</th>\n",
       "      <th>Price</th>\n",
       "      <th>Content Rating</th>\n",
       "      <th>Genres</th>\n",
       "      <th>Last Updated</th>\n",
       "      <th>Current Ver</th>\n",
       "      <th>Android Ver</th>\n",
       "    </tr>\n",
       "  </thead>\n",
       "  <tbody>\n",
       "    <tr>\n",
       "      <th>0</th>\n",
       "      <td>Photo Editor &amp; Candy Camera &amp; Grid &amp; ScrapBook</td>\n",
       "      <td>ART_AND_DESIGN</td>\n",
       "      <td>4.1</td>\n",
       "      <td>159.0</td>\n",
       "      <td>19M</td>\n",
       "      <td>10000.0</td>\n",
       "      <td>Free</td>\n",
       "      <td>0.0</td>\n",
       "      <td>Everyone</td>\n",
       "      <td>Art &amp; Design</td>\n",
       "      <td>2018-01-07</td>\n",
       "      <td>1.0.0</td>\n",
       "      <td>4.0.3 and up</td>\n",
       "    </tr>\n",
       "    <tr>\n",
       "      <th>1</th>\n",
       "      <td>Coloring book moana</td>\n",
       "      <td>ART_AND_DESIGN</td>\n",
       "      <td>3.9</td>\n",
       "      <td>967.0</td>\n",
       "      <td>14M</td>\n",
       "      <td>500000.0</td>\n",
       "      <td>Free</td>\n",
       "      <td>0.0</td>\n",
       "      <td>Everyone</td>\n",
       "      <td>Art &amp; Design;Pretend Play</td>\n",
       "      <td>2018-01-15</td>\n",
       "      <td>2.0.0</td>\n",
       "      <td>4.0.3 and up</td>\n",
       "    </tr>\n",
       "    <tr>\n",
       "      <th>2</th>\n",
       "      <td>U Launcher Lite – FREE Live Cool Themes, Hide ...</td>\n",
       "      <td>ART_AND_DESIGN</td>\n",
       "      <td>4.7</td>\n",
       "      <td>87510.0</td>\n",
       "      <td>8.7M</td>\n",
       "      <td>5000000.0</td>\n",
       "      <td>Free</td>\n",
       "      <td>0.0</td>\n",
       "      <td>Everyone</td>\n",
       "      <td>Art &amp; Design</td>\n",
       "      <td>2018-08-01</td>\n",
       "      <td>1.2.4</td>\n",
       "      <td>4.0.3 and up</td>\n",
       "    </tr>\n",
       "    <tr>\n",
       "      <th>3</th>\n",
       "      <td>Sketch - Draw &amp; Paint</td>\n",
       "      <td>ART_AND_DESIGN</td>\n",
       "      <td>4.5</td>\n",
       "      <td>215644.0</td>\n",
       "      <td>25M</td>\n",
       "      <td>50000000.0</td>\n",
       "      <td>Free</td>\n",
       "      <td>0.0</td>\n",
       "      <td>Teen</td>\n",
       "      <td>Art &amp; Design</td>\n",
       "      <td>2018-06-08</td>\n",
       "      <td>Varies with device</td>\n",
       "      <td>4.2 and up</td>\n",
       "    </tr>\n",
       "    <tr>\n",
       "      <th>4</th>\n",
       "      <td>Pixel Draw - Number Art Coloring Book</td>\n",
       "      <td>ART_AND_DESIGN</td>\n",
       "      <td>4.3</td>\n",
       "      <td>967.0</td>\n",
       "      <td>2.8M</td>\n",
       "      <td>100000.0</td>\n",
       "      <td>Free</td>\n",
       "      <td>0.0</td>\n",
       "      <td>Everyone</td>\n",
       "      <td>Art &amp; Design;Creativity</td>\n",
       "      <td>2018-06-20</td>\n",
       "      <td>1.1</td>\n",
       "      <td>4.4 and up</td>\n",
       "    </tr>\n",
       "  </tbody>\n",
       "</table>\n",
       "</div>"
      ],
      "text/plain": [
       "                                                 App        Category  Rating  \\\n",
       "0     Photo Editor & Candy Camera & Grid & ScrapBook  ART_AND_DESIGN     4.1   \n",
       "1                                Coloring book moana  ART_AND_DESIGN     3.9   \n",
       "2  U Launcher Lite – FREE Live Cool Themes, Hide ...  ART_AND_DESIGN     4.7   \n",
       "3                              Sketch - Draw & Paint  ART_AND_DESIGN     4.5   \n",
       "4              Pixel Draw - Number Art Coloring Book  ART_AND_DESIGN     4.3   \n",
       "\n",
       "    Reviews  Size    Installs  Type  Price Content Rating  \\\n",
       "0     159.0   19M     10000.0  Free    0.0       Everyone   \n",
       "1     967.0   14M    500000.0  Free    0.0       Everyone   \n",
       "2   87510.0  8.7M   5000000.0  Free    0.0       Everyone   \n",
       "3  215644.0   25M  50000000.0  Free    0.0           Teen   \n",
       "4     967.0  2.8M    100000.0  Free    0.0       Everyone   \n",
       "\n",
       "                      Genres Last Updated         Current Ver   Android Ver  \n",
       "0               Art & Design   2018-01-07               1.0.0  4.0.3 and up  \n",
       "1  Art & Design;Pretend Play   2018-01-15               2.0.0  4.0.3 and up  \n",
       "2               Art & Design   2018-08-01               1.2.4  4.0.3 and up  \n",
       "3               Art & Design   2018-06-08  Varies with device    4.2 and up  \n",
       "4    Art & Design;Creativity   2018-06-20                 1.1    4.4 and up  "
      ]
     },
     "execution_count": 9,
     "metadata": {},
     "output_type": "execute_result"
    }
   ],
   "source": [
    "ps_df.head()"
   ]
  },
  {
   "cell_type": "code",
   "execution_count": 10,
   "id": "413d768d",
   "metadata": {},
   "outputs": [
    {
     "name": "stdout",
     "output_type": "stream",
     "text": [
      "Unique app names in Reviews dataset: 1074\n"
     ]
    }
   ],
   "source": [
    "# Number of unique app names in the review dataset\n",
    "print(\"Unique app names in Reviews dataset:\", ps_review_df['App'].nunique())"
   ]
  },
  {
   "cell_type": "code",
   "execution_count": 11,
   "id": "df2454b9",
   "metadata": {},
   "outputs": [
    {
     "name": "stdout",
     "output_type": "stream",
     "text": [
      "<class 'pandas.core.frame.DataFrame'>\n",
      "RangeIndex: 64295 entries, 0 to 64294\n",
      "Data columns (total 5 columns):\n",
      " #   Column                  Non-Null Count  Dtype   \n",
      "---  ------                  --------------  -----   \n",
      " 0   App                     64295 non-null  category\n",
      " 1   Translated_Review       37427 non-null  string  \n",
      " 2   Sentiment               37432 non-null  category\n",
      " 3   Sentiment_Polarity      37432 non-null  float32 \n",
      " 4   Sentiment_Subjectivity  37432 non-null  float32 \n",
      "dtypes: category(2), float32(2), string(1)\n",
      "memory usage: 1.2 MB\n"
     ]
    }
   ],
   "source": [
    "# Categorical columns\n",
    "ps_review_df['App'] = ps_review_df['App'].astype('category')\n",
    "ps_review_df['Sentiment'] = ps_review_df['Sentiment'].astype('category')\n",
    "\n",
    "# String columns\n",
    "ps_review_df['Translated_Review'] = ps_review_df['Translated_Review'].astype('string')\n",
    "\n",
    "# Downcast to float32 to save memory\n",
    "ps_review_df['Sentiment_Polarity'] = pd.to_numeric(ps_review_df['Sentiment_Polarity'], downcast='float')\n",
    "ps_review_df['Sentiment_Subjectivity'] = pd.to_numeric(ps_review_df['Sentiment_Subjectivity'], downcast='float')\n",
    "\n",
    "# Check new info\n",
    "ps_review_df.info()"
   ]
  },
  {
   "cell_type": "markdown",
   "id": "572b207d",
   "metadata": {},
   "source": [
    "### Handling Duplicates"
   ]
  },
  {
   "cell_type": "code",
   "execution_count": 12,
   "id": "a7a760a7",
   "metadata": {},
   "outputs": [
    {
     "name": "stdout",
     "output_type": "stream",
     "text": [
      "\n",
      "Duplicate rows in app table: 1181\n"
     ]
    }
   ],
   "source": [
    "print(\"\\nDuplicate rows in app table:\", ps_df['App'].duplicated().sum())"
   ]
  },
  {
   "cell_type": "code",
   "execution_count": 13,
   "id": "52a05e9e",
   "metadata": {},
   "outputs": [
    {
     "data": {
      "text/html": [
       "<div>\n",
       "<style scoped>\n",
       "    .dataframe tbody tr th:only-of-type {\n",
       "        vertical-align: middle;\n",
       "    }\n",
       "\n",
       "    .dataframe tbody tr th {\n",
       "        vertical-align: top;\n",
       "    }\n",
       "\n",
       "    .dataframe thead th {\n",
       "        text-align: right;\n",
       "    }\n",
       "</style>\n",
       "<table border=\"1\" class=\"dataframe\">\n",
       "  <thead>\n",
       "    <tr style=\"text-align: right;\">\n",
       "      <th></th>\n",
       "      <th>App</th>\n",
       "      <th>Category</th>\n",
       "      <th>Rating</th>\n",
       "      <th>Reviews</th>\n",
       "      <th>Size</th>\n",
       "      <th>Installs</th>\n",
       "      <th>Type</th>\n",
       "      <th>Price</th>\n",
       "      <th>Content Rating</th>\n",
       "      <th>Genres</th>\n",
       "      <th>Last Updated</th>\n",
       "      <th>Current Ver</th>\n",
       "      <th>Android Ver</th>\n",
       "    </tr>\n",
       "  </thead>\n",
       "  <tbody>\n",
       "    <tr>\n",
       "      <th>1393</th>\n",
       "      <td>10 Best Foods for You</td>\n",
       "      <td>HEALTH_AND_FITNESS</td>\n",
       "      <td>4.0</td>\n",
       "      <td>2490.0</td>\n",
       "      <td>3.8M</td>\n",
       "      <td>500000.0</td>\n",
       "      <td>Free</td>\n",
       "      <td>0.00</td>\n",
       "      <td>Everyone 10+</td>\n",
       "      <td>Health &amp; Fitness</td>\n",
       "      <td>2017-02-17</td>\n",
       "      <td>1.9</td>\n",
       "      <td>2.3.3 and up</td>\n",
       "    </tr>\n",
       "    <tr>\n",
       "      <th>1407</th>\n",
       "      <td>10 Best Foods for You</td>\n",
       "      <td>HEALTH_AND_FITNESS</td>\n",
       "      <td>4.0</td>\n",
       "      <td>2490.0</td>\n",
       "      <td>3.8M</td>\n",
       "      <td>500000.0</td>\n",
       "      <td>Free</td>\n",
       "      <td>0.00</td>\n",
       "      <td>Everyone 10+</td>\n",
       "      <td>Health &amp; Fitness</td>\n",
       "      <td>2017-02-17</td>\n",
       "      <td>1.9</td>\n",
       "      <td>2.3.3 and up</td>\n",
       "    </tr>\n",
       "    <tr>\n",
       "      <th>2543</th>\n",
       "      <td>1800 Contacts - Lens Store</td>\n",
       "      <td>MEDICAL</td>\n",
       "      <td>4.7</td>\n",
       "      <td>23160.0</td>\n",
       "      <td>26M</td>\n",
       "      <td>1000000.0</td>\n",
       "      <td>Free</td>\n",
       "      <td>0.00</td>\n",
       "      <td>Everyone</td>\n",
       "      <td>Medical</td>\n",
       "      <td>2018-07-27</td>\n",
       "      <td>7.4.1</td>\n",
       "      <td>5.0 and up</td>\n",
       "    </tr>\n",
       "    <tr>\n",
       "      <th>2322</th>\n",
       "      <td>1800 Contacts - Lens Store</td>\n",
       "      <td>MEDICAL</td>\n",
       "      <td>4.7</td>\n",
       "      <td>23160.0</td>\n",
       "      <td>26M</td>\n",
       "      <td>1000000.0</td>\n",
       "      <td>Free</td>\n",
       "      <td>0.00</td>\n",
       "      <td>Everyone</td>\n",
       "      <td>Medical</td>\n",
       "      <td>2018-07-27</td>\n",
       "      <td>7.4.1</td>\n",
       "      <td>5.0 and up</td>\n",
       "    </tr>\n",
       "    <tr>\n",
       "      <th>2385</th>\n",
       "      <td>2017 EMRA Antibiotic Guide</td>\n",
       "      <td>MEDICAL</td>\n",
       "      <td>4.4</td>\n",
       "      <td>12.0</td>\n",
       "      <td>3.8M</td>\n",
       "      <td>1000.0</td>\n",
       "      <td>Paid</td>\n",
       "      <td>16.99</td>\n",
       "      <td>Everyone</td>\n",
       "      <td>Medical</td>\n",
       "      <td>2017-01-27</td>\n",
       "      <td>1.0.5</td>\n",
       "      <td>4.0.3 and up</td>\n",
       "    </tr>\n",
       "    <tr>\n",
       "      <th>...</th>\n",
       "      <td>...</td>\n",
       "      <td>...</td>\n",
       "      <td>...</td>\n",
       "      <td>...</td>\n",
       "      <td>...</td>\n",
       "      <td>...</td>\n",
       "      <td>...</td>\n",
       "      <td>...</td>\n",
       "      <td>...</td>\n",
       "      <td>...</td>\n",
       "      <td>...</td>\n",
       "      <td>...</td>\n",
       "      <td>...</td>\n",
       "    </tr>\n",
       "    <tr>\n",
       "      <th>3202</th>\n",
       "      <td>trivago: Hotels &amp; Travel</td>\n",
       "      <td>TRAVEL_AND_LOCAL</td>\n",
       "      <td>4.2</td>\n",
       "      <td>219848.0</td>\n",
       "      <td>Varies with device</td>\n",
       "      <td>50000000.0</td>\n",
       "      <td>Free</td>\n",
       "      <td>0.00</td>\n",
       "      <td>Everyone</td>\n",
       "      <td>Travel &amp; Local</td>\n",
       "      <td>2018-08-02</td>\n",
       "      <td>Varies with device</td>\n",
       "      <td>Varies with device</td>\n",
       "    </tr>\n",
       "    <tr>\n",
       "      <th>3118</th>\n",
       "      <td>trivago: Hotels &amp; Travel</td>\n",
       "      <td>TRAVEL_AND_LOCAL</td>\n",
       "      <td>4.2</td>\n",
       "      <td>219848.0</td>\n",
       "      <td>Varies with device</td>\n",
       "      <td>50000000.0</td>\n",
       "      <td>Free</td>\n",
       "      <td>0.00</td>\n",
       "      <td>Everyone</td>\n",
       "      <td>Travel &amp; Local</td>\n",
       "      <td>2018-08-02</td>\n",
       "      <td>Varies with device</td>\n",
       "      <td>Varies with device</td>\n",
       "    </tr>\n",
       "    <tr>\n",
       "      <th>3103</th>\n",
       "      <td>trivago: Hotels &amp; Travel</td>\n",
       "      <td>TRAVEL_AND_LOCAL</td>\n",
       "      <td>4.2</td>\n",
       "      <td>219848.0</td>\n",
       "      <td>Varies with device</td>\n",
       "      <td>50000000.0</td>\n",
       "      <td>Free</td>\n",
       "      <td>0.00</td>\n",
       "      <td>Everyone</td>\n",
       "      <td>Travel &amp; Local</td>\n",
       "      <td>2018-08-02</td>\n",
       "      <td>Varies with device</td>\n",
       "      <td>Varies with device</td>\n",
       "    </tr>\n",
       "    <tr>\n",
       "      <th>8291</th>\n",
       "      <td>wetter.com - Weather and Radar</td>\n",
       "      <td>WEATHER</td>\n",
       "      <td>4.2</td>\n",
       "      <td>189310.0</td>\n",
       "      <td>38M</td>\n",
       "      <td>10000000.0</td>\n",
       "      <td>Free</td>\n",
       "      <td>0.00</td>\n",
       "      <td>Everyone</td>\n",
       "      <td>Weather</td>\n",
       "      <td>2018-08-06</td>\n",
       "      <td>Varies with device</td>\n",
       "      <td>Varies with device</td>\n",
       "    </tr>\n",
       "    <tr>\n",
       "      <th>3652</th>\n",
       "      <td>wetter.com - Weather and Radar</td>\n",
       "      <td>WEATHER</td>\n",
       "      <td>4.2</td>\n",
       "      <td>189313.0</td>\n",
       "      <td>38M</td>\n",
       "      <td>10000000.0</td>\n",
       "      <td>Free</td>\n",
       "      <td>0.00</td>\n",
       "      <td>Everyone</td>\n",
       "      <td>Weather</td>\n",
       "      <td>2018-08-06</td>\n",
       "      <td>Varies with device</td>\n",
       "      <td>Varies with device</td>\n",
       "    </tr>\n",
       "  </tbody>\n",
       "</table>\n",
       "<p>1979 rows × 13 columns</p>\n",
       "</div>"
      ],
      "text/plain": [
       "                                 App            Category  Rating   Reviews  \\\n",
       "1393           10 Best Foods for You  HEALTH_AND_FITNESS     4.0    2490.0   \n",
       "1407           10 Best Foods for You  HEALTH_AND_FITNESS     4.0    2490.0   \n",
       "2543      1800 Contacts - Lens Store             MEDICAL     4.7   23160.0   \n",
       "2322      1800 Contacts - Lens Store             MEDICAL     4.7   23160.0   \n",
       "2385      2017 EMRA Antibiotic Guide             MEDICAL     4.4      12.0   \n",
       "...                              ...                 ...     ...       ...   \n",
       "3202        trivago: Hotels & Travel    TRAVEL_AND_LOCAL     4.2  219848.0   \n",
       "3118        trivago: Hotels & Travel    TRAVEL_AND_LOCAL     4.2  219848.0   \n",
       "3103        trivago: Hotels & Travel    TRAVEL_AND_LOCAL     4.2  219848.0   \n",
       "8291  wetter.com - Weather and Radar             WEATHER     4.2  189310.0   \n",
       "3652  wetter.com - Weather and Radar             WEATHER     4.2  189313.0   \n",
       "\n",
       "                    Size    Installs  Type  Price Content Rating  \\\n",
       "1393                3.8M    500000.0  Free   0.00   Everyone 10+   \n",
       "1407                3.8M    500000.0  Free   0.00   Everyone 10+   \n",
       "2543                 26M   1000000.0  Free   0.00       Everyone   \n",
       "2322                 26M   1000000.0  Free   0.00       Everyone   \n",
       "2385                3.8M      1000.0  Paid  16.99       Everyone   \n",
       "...                  ...         ...   ...    ...            ...   \n",
       "3202  Varies with device  50000000.0  Free   0.00       Everyone   \n",
       "3118  Varies with device  50000000.0  Free   0.00       Everyone   \n",
       "3103  Varies with device  50000000.0  Free   0.00       Everyone   \n",
       "8291                 38M  10000000.0  Free   0.00       Everyone   \n",
       "3652                 38M  10000000.0  Free   0.00       Everyone   \n",
       "\n",
       "                Genres Last Updated         Current Ver         Android Ver  \n",
       "1393  Health & Fitness   2017-02-17                 1.9        2.3.3 and up  \n",
       "1407  Health & Fitness   2017-02-17                 1.9        2.3.3 and up  \n",
       "2543           Medical   2018-07-27               7.4.1          5.0 and up  \n",
       "2322           Medical   2018-07-27               7.4.1          5.0 and up  \n",
       "2385           Medical   2017-01-27               1.0.5        4.0.3 and up  \n",
       "...                ...          ...                 ...                 ...  \n",
       "3202    Travel & Local   2018-08-02  Varies with device  Varies with device  \n",
       "3118    Travel & Local   2018-08-02  Varies with device  Varies with device  \n",
       "3103    Travel & Local   2018-08-02  Varies with device  Varies with device  \n",
       "8291           Weather   2018-08-06  Varies with device  Varies with device  \n",
       "3652           Weather   2018-08-06  Varies with device  Varies with device  \n",
       "\n",
       "[1979 rows x 13 columns]"
      ]
     },
     "metadata": {},
     "output_type": "display_data"
    }
   ],
   "source": [
    "# Check if all columns are identical for duplicate Apps\n",
    "dups = ps_df[ps_df.duplicated('App', keep=False)].sort_values('App')\n",
    "display(dups)"
   ]
  },
  {
   "cell_type": "code",
   "execution_count": 14,
   "id": "6f404445",
   "metadata": {},
   "outputs": [
    {
     "name": "stdout",
     "output_type": "stream",
     "text": [
      "\n",
      "Duplicate rows in app table: 0\n"
     ]
    }
   ],
   "source": [
    "# Drop duplicates by keeping the row with the latest update:\n",
    "ps_df_clean = ps_df.sort_values('Last Updated', ascending=False).drop_duplicates('App', keep='first').reset_index(drop=True)\n",
    "print(\"\\nDuplicate rows in app table:\", ps_df_clean['App'].duplicated().sum())"
   ]
  },
  {
   "cell_type": "code",
   "execution_count": 15,
   "id": "e727577c",
   "metadata": {},
   "outputs": [
    {
     "name": "stdout",
     "output_type": "stream",
     "text": [
      "Duplicate rows in reviews dataset: 33616\n"
     ]
    },
    {
     "data": {
      "text/html": [
       "<div>\n",
       "<style scoped>\n",
       "    .dataframe tbody tr th:only-of-type {\n",
       "        vertical-align: middle;\n",
       "    }\n",
       "\n",
       "    .dataframe tbody tr th {\n",
       "        vertical-align: top;\n",
       "    }\n",
       "\n",
       "    .dataframe thead th {\n",
       "        text-align: right;\n",
       "    }\n",
       "</style>\n",
       "<table border=\"1\" class=\"dataframe\">\n",
       "  <thead>\n",
       "    <tr style=\"text-align: right;\">\n",
       "      <th></th>\n",
       "      <th>App</th>\n",
       "      <th>Translated_Review</th>\n",
       "      <th>Sentiment</th>\n",
       "      <th>Sentiment_Polarity</th>\n",
       "      <th>Sentiment_Subjectivity</th>\n",
       "    </tr>\n",
       "  </thead>\n",
       "  <tbody>\n",
       "    <tr>\n",
       "      <th>7</th>\n",
       "      <td>10 Best Foods for You</td>\n",
       "      <td>&lt;NA&gt;</td>\n",
       "      <td>NaN</td>\n",
       "      <td>NaN</td>\n",
       "      <td>NaN</td>\n",
       "    </tr>\n",
       "    <tr>\n",
       "      <th>15</th>\n",
       "      <td>10 Best Foods for You</td>\n",
       "      <td>&lt;NA&gt;</td>\n",
       "      <td>NaN</td>\n",
       "      <td>NaN</td>\n",
       "      <td>NaN</td>\n",
       "    </tr>\n",
       "    <tr>\n",
       "      <th>78</th>\n",
       "      <td>10 Best Foods for You</td>\n",
       "      <td>Good</td>\n",
       "      <td>Positive</td>\n",
       "      <td>0.7</td>\n",
       "      <td>0.600000</td>\n",
       "    </tr>\n",
       "    <tr>\n",
       "      <th>79</th>\n",
       "      <td>10 Best Foods for You</td>\n",
       "      <td>Good</td>\n",
       "      <td>Positive</td>\n",
       "      <td>0.7</td>\n",
       "      <td>0.600000</td>\n",
       "    </tr>\n",
       "    <tr>\n",
       "      <th>100</th>\n",
       "      <td>10 Best Foods for You</td>\n",
       "      <td>I like eat delicious food. That's I'm cooking ...</td>\n",
       "      <td>Positive</td>\n",
       "      <td>1.0</td>\n",
       "      <td>0.533333</td>\n",
       "    </tr>\n",
       "    <tr>\n",
       "      <th>...</th>\n",
       "      <td>...</td>\n",
       "      <td>...</td>\n",
       "      <td>...</td>\n",
       "      <td>...</td>\n",
       "      <td>...</td>\n",
       "    </tr>\n",
       "    <tr>\n",
       "      <th>64290</th>\n",
       "      <td>Houzz Interior Design Ideas</td>\n",
       "      <td>&lt;NA&gt;</td>\n",
       "      <td>NaN</td>\n",
       "      <td>NaN</td>\n",
       "      <td>NaN</td>\n",
       "    </tr>\n",
       "    <tr>\n",
       "      <th>64291</th>\n",
       "      <td>Houzz Interior Design Ideas</td>\n",
       "      <td>&lt;NA&gt;</td>\n",
       "      <td>NaN</td>\n",
       "      <td>NaN</td>\n",
       "      <td>NaN</td>\n",
       "    </tr>\n",
       "    <tr>\n",
       "      <th>64292</th>\n",
       "      <td>Houzz Interior Design Ideas</td>\n",
       "      <td>&lt;NA&gt;</td>\n",
       "      <td>NaN</td>\n",
       "      <td>NaN</td>\n",
       "      <td>NaN</td>\n",
       "    </tr>\n",
       "    <tr>\n",
       "      <th>64293</th>\n",
       "      <td>Houzz Interior Design Ideas</td>\n",
       "      <td>&lt;NA&gt;</td>\n",
       "      <td>NaN</td>\n",
       "      <td>NaN</td>\n",
       "      <td>NaN</td>\n",
       "    </tr>\n",
       "    <tr>\n",
       "      <th>64294</th>\n",
       "      <td>Houzz Interior Design Ideas</td>\n",
       "      <td>&lt;NA&gt;</td>\n",
       "      <td>NaN</td>\n",
       "      <td>NaN</td>\n",
       "      <td>NaN</td>\n",
       "    </tr>\n",
       "  </tbody>\n",
       "</table>\n",
       "<p>33616 rows × 5 columns</p>\n",
       "</div>"
      ],
      "text/plain": [
       "                               App  \\\n",
       "7            10 Best Foods for You   \n",
       "15           10 Best Foods for You   \n",
       "78           10 Best Foods for You   \n",
       "79           10 Best Foods for You   \n",
       "100          10 Best Foods for You   \n",
       "...                            ...   \n",
       "64290  Houzz Interior Design Ideas   \n",
       "64291  Houzz Interior Design Ideas   \n",
       "64292  Houzz Interior Design Ideas   \n",
       "64293  Houzz Interior Design Ideas   \n",
       "64294  Houzz Interior Design Ideas   \n",
       "\n",
       "                                       Translated_Review Sentiment  \\\n",
       "7                                                   <NA>       NaN   \n",
       "15                                                  <NA>       NaN   \n",
       "78                                                  Good  Positive   \n",
       "79                                                  Good  Positive   \n",
       "100    I like eat delicious food. That's I'm cooking ...  Positive   \n",
       "...                                                  ...       ...   \n",
       "64290                                               <NA>       NaN   \n",
       "64291                                               <NA>       NaN   \n",
       "64292                                               <NA>       NaN   \n",
       "64293                                               <NA>       NaN   \n",
       "64294                                               <NA>       NaN   \n",
       "\n",
       "       Sentiment_Polarity  Sentiment_Subjectivity  \n",
       "7                     NaN                     NaN  \n",
       "15                    NaN                     NaN  \n",
       "78                    0.7                0.600000  \n",
       "79                    0.7                0.600000  \n",
       "100                   1.0                0.533333  \n",
       "...                   ...                     ...  \n",
       "64290                 NaN                     NaN  \n",
       "64291                 NaN                     NaN  \n",
       "64292                 NaN                     NaN  \n",
       "64293                 NaN                     NaN  \n",
       "64294                 NaN                     NaN  \n",
       "\n",
       "[33616 rows x 5 columns]"
      ]
     },
     "metadata": {},
     "output_type": "display_data"
    }
   ],
   "source": [
    "print(\"Duplicate rows in reviews dataset:\", ps_review_df.duplicated().sum())\n",
    "display(ps_review_df[ps_review_df.duplicated()])"
   ]
  },
  {
   "cell_type": "code",
   "execution_count": 16,
   "id": "14c09c89",
   "metadata": {},
   "outputs": [
    {
     "name": "stdout",
     "output_type": "stream",
     "text": [
      "Duplicate rows in reviews dataset after removal: 0\n"
     ]
    }
   ],
   "source": [
    "ps_review_df_clean = ps_review_df.drop_duplicates(keep='first').reset_index(drop=True)\n",
    "print(\"Duplicate rows in reviews dataset after removal:\", ps_review_df_clean.duplicated().sum())"
   ]
  },
  {
   "cell_type": "markdown",
   "id": "802757c4",
   "metadata": {},
   "source": [
    "### Handling Missing Values"
   ]
  },
  {
   "cell_type": "code",
   "execution_count": 17,
   "id": "8a258f7c",
   "metadata": {},
   "outputs": [
    {
     "name": "stdout",
     "output_type": "stream",
     "text": [
      "Missing values in apps table:\n",
      "App                  0\n",
      "Category             0\n",
      "Rating            1463\n",
      "Reviews              1\n",
      "Size                 0\n",
      "Installs             1\n",
      "Type                 1\n",
      "Price                1\n",
      "Content Rating       1\n",
      "Genres               0\n",
      "Last Updated         1\n",
      "Current Ver          8\n",
      "Android Ver          3\n",
      "dtype: int64\n"
     ]
    }
   ],
   "source": [
    "print(\"Missing values in apps table:\")\n",
    "print(ps_df_clean.isnull().sum())"
   ]
  },
  {
   "cell_type": "code",
   "execution_count": 18,
   "id": "bdc2ce42",
   "metadata": {},
   "outputs": [
    {
     "name": "stdout",
     "output_type": "stream",
     "text": [
      "App                  0\n",
      "Category             0\n",
      "Rating            1458\n",
      "Reviews              0\n",
      "Size                 0\n",
      "Installs             0\n",
      "Type                 0\n",
      "Price                0\n",
      "Content Rating       0\n",
      "Genres               0\n",
      "Last Updated         0\n",
      "Current Ver          0\n",
      "Android Ver          0\n",
      "dtype: int64\n"
     ]
    }
   ],
   "source": [
    "ps_df_clean = ps_df_clean.dropna(subset=['Reviews', 'Installs', 'Price', 'Type', 'Content Rating', 'Last Updated', 'Current Ver', 'Android Ver'])\n",
    "ps_df_clean = ps_df_clean.reset_index(drop=True)\n",
    "print(ps_df_clean.isnull().sum())"
   ]
  },
  {
   "cell_type": "code",
   "execution_count": 19,
   "id": "43ae8f76",
   "metadata": {},
   "outputs": [
    {
     "name": "stdout",
     "output_type": "stream",
     "text": [
      "Missing values in review table:\n",
      "App                         0\n",
      "Translated_Review         987\n",
      "Sentiment                 982\n",
      "Sentiment_Polarity        982\n",
      "Sentiment_Subjectivity    982\n",
      "dtype: int64\n"
     ]
    }
   ],
   "source": [
    "print(\"Missing values in review table:\")\n",
    "print(ps_review_df_clean.isnull().sum())"
   ]
  },
  {
   "cell_type": "code",
   "execution_count": 20,
   "id": "cf06867d",
   "metadata": {},
   "outputs": [
    {
     "name": "stdout",
     "output_type": "stream",
     "text": [
      "App                       0\n",
      "Translated_Review         0\n",
      "Sentiment                 0\n",
      "Sentiment_Polarity        0\n",
      "Sentiment_Subjectivity    0\n",
      "dtype: int64\n"
     ]
    }
   ],
   "source": [
    "# Drop rows where there are no reviews\n",
    "ps_review_df_clean = ps_review_df_clean.dropna(subset=['Translated_Review']).reset_index(drop=True)\n",
    "print(ps_review_df_clean.isnull().sum())"
   ]
  },
  {
   "cell_type": "code",
   "execution_count": 21,
   "id": "a21d3487",
   "metadata": {},
   "outputs": [
    {
     "name": "stdout",
     "output_type": "stream",
     "text": [
      "<class 'pandas.core.frame.DataFrame'>\n",
      "RangeIndex: 29692 entries, 0 to 29691\n",
      "Data columns (total 5 columns):\n",
      " #   Column                  Non-Null Count  Dtype   \n",
      "---  ------                  --------------  -----   \n",
      " 0   App                     29692 non-null  category\n",
      " 1   Translated_Review       29692 non-null  string  \n",
      " 2   Sentiment               29692 non-null  category\n",
      " 3   Sentiment_Polarity      29692 non-null  float32 \n",
      " 4   Sentiment_Subjectivity  29692 non-null  float32 \n",
      "dtypes: category(2), float32(2), string(1)\n",
      "memory usage: 591.9 KB\n"
     ]
    },
    {
     "data": {
      "text/html": [
       "<div>\n",
       "<style scoped>\n",
       "    .dataframe tbody tr th:only-of-type {\n",
       "        vertical-align: middle;\n",
       "    }\n",
       "\n",
       "    .dataframe tbody tr th {\n",
       "        vertical-align: top;\n",
       "    }\n",
       "\n",
       "    .dataframe thead th {\n",
       "        text-align: right;\n",
       "    }\n",
       "</style>\n",
       "<table border=\"1\" class=\"dataframe\">\n",
       "  <thead>\n",
       "    <tr style=\"text-align: right;\">\n",
       "      <th></th>\n",
       "      <th>App</th>\n",
       "      <th>Translated_Review</th>\n",
       "      <th>Sentiment</th>\n",
       "      <th>Sentiment_Polarity</th>\n",
       "      <th>Sentiment_Subjectivity</th>\n",
       "    </tr>\n",
       "  </thead>\n",
       "  <tbody>\n",
       "    <tr>\n",
       "      <th>0</th>\n",
       "      <td>10 Best Foods for You</td>\n",
       "      <td>I like eat delicious food. That's I'm cooking ...</td>\n",
       "      <td>Positive</td>\n",
       "      <td>1.00</td>\n",
       "      <td>0.533333</td>\n",
       "    </tr>\n",
       "    <tr>\n",
       "      <th>1</th>\n",
       "      <td>10 Best Foods for You</td>\n",
       "      <td>This help eating healthy exercise regular basis</td>\n",
       "      <td>Positive</td>\n",
       "      <td>0.25</td>\n",
       "      <td>0.288462</td>\n",
       "    </tr>\n",
       "    <tr>\n",
       "      <th>2</th>\n",
       "      <td>10 Best Foods for You</td>\n",
       "      <td>Works great especially going grocery store</td>\n",
       "      <td>Positive</td>\n",
       "      <td>0.40</td>\n",
       "      <td>0.875000</td>\n",
       "    </tr>\n",
       "    <tr>\n",
       "      <th>3</th>\n",
       "      <td>10 Best Foods for You</td>\n",
       "      <td>Best idea us</td>\n",
       "      <td>Positive</td>\n",
       "      <td>1.00</td>\n",
       "      <td>0.300000</td>\n",
       "    </tr>\n",
       "    <tr>\n",
       "      <th>4</th>\n",
       "      <td>10 Best Foods for You</td>\n",
       "      <td>Best way</td>\n",
       "      <td>Positive</td>\n",
       "      <td>1.00</td>\n",
       "      <td>0.300000</td>\n",
       "    </tr>\n",
       "  </tbody>\n",
       "</table>\n",
       "</div>"
      ],
      "text/plain": [
       "                     App                                  Translated_Review  \\\n",
       "0  10 Best Foods for You  I like eat delicious food. That's I'm cooking ...   \n",
       "1  10 Best Foods for You    This help eating healthy exercise regular basis   \n",
       "2  10 Best Foods for You         Works great especially going grocery store   \n",
       "3  10 Best Foods for You                                       Best idea us   \n",
       "4  10 Best Foods for You                                           Best way   \n",
       "\n",
       "  Sentiment  Sentiment_Polarity  Sentiment_Subjectivity  \n",
       "0  Positive                1.00                0.533333  \n",
       "1  Positive                0.25                0.288462  \n",
       "2  Positive                0.40                0.875000  \n",
       "3  Positive                1.00                0.300000  \n",
       "4  Positive                1.00                0.300000  "
      ]
     },
     "execution_count": 21,
     "metadata": {},
     "output_type": "execute_result"
    }
   ],
   "source": [
    "ps_review_df_clean.info()\n",
    "ps_review_df_clean.head()\n"
   ]
  },
  {
   "cell_type": "markdown",
   "id": "9e5352cd",
   "metadata": {},
   "source": [
    "## Exploratory Data Analysis (EDA)"
   ]
  },
  {
   "cell_type": "code",
   "execution_count": 22,
   "id": "36873615",
   "metadata": {},
   "outputs": [
    {
     "data": {
      "image/png": "[encoded data removed]",
      "text/plain": [
       "<Figure size 800x400 with 1 Axes>"
      ]
     },
     "metadata": {},
     "output_type": "display_data"
    },
    {
     "data": {
      "image/png": "[encoded data removed]",
      "text/plain": [
       "<Figure size 1000x500 with 1 Axes>"
      ]
     },
     "metadata": {},
     "output_type": "display_data"
    },
    {
     "data": {
      "image/png": "[encoded data removed]",
      "text/plain": [
       "<Figure size 600x400 with 1 Axes>"
      ]
     },
     "metadata": {},
     "output_type": "display_data"
    }
   ],
   "source": [
    "# 1. App Ratings: Distribution\n",
    "plt.figure(figsize=(8,4))\n",
    "sns.histplot(ps_df_clean['Rating'].dropna(), bins=20, kde=True)\n",
    "plt.title('Distribution of App Ratings')\n",
    "plt.xlabel('Rating')\n",
    "plt.ylabel('Count')\n",
    "plt.show()\n",
    "\n",
    "\n",
    "# 5. Category: Most common categories\n",
    "plt.figure(figsize=(10,5))\n",
    "ps_df_clean['Category'].value_counts().head(10).plot(kind='bar')\n",
    "plt.title('Top 10 App Categories')\n",
    "plt.xlabel('Category')\n",
    "plt.ylabel('Number of Apps')\n",
    "plt.show()\n",
    "\n",
    "# 6. Type: Free vs Paid\n",
    "plt.figure(figsize=(6,4))\n",
    "ps_df_clean['Type'].value_counts().plot(kind='bar')\n",
    "plt.title('Free vs Paid Apps')\n",
    "plt.xlabel('Type')\n",
    "plt.ylabel('Number of Apps')\n",
    "plt.show()"
   ]
  },
  {
   "cell_type": "markdown",
   "id": "1c481c2c",
   "metadata": {},
   "source": [
    "### Findings:\n",
    "\n",
    "Possible rating inflation: The lack of low ratings and the clustering at high values may indicate a bias where users tend to rate apps positively, or low-rated apps are less likely to survive in the store. \n",
    "\n",
    "FAMILY is by far the largest category, with almost double the apps compared to the next category.\n",
    "GAME and TOOLS are also very popular, each with a large number of apps.\n",
    "\n",
    "The vast majority of apps are Free"
   ]
  },
  {
   "cell_type": "markdown",
   "id": "174e220f",
   "metadata": {},
   "source": [
    "# Task 2: Sentiment Analysis"
   ]
  },
  {
   "cell_type": "markdown",
   "id": "13393b62",
   "metadata": {},
   "source": [
    "## Analysis and Baseline modelling"
   ]
  },
  {
   "cell_type": "markdown",
   "id": "691f7157",
   "metadata": {},
   "source": [
    "### Sentiment Distribution in Reviews"
   ]
  },
  {
   "cell_type": "code",
   "execution_count": 101,
   "id": "05618b04",
   "metadata": {},
   "outputs": [
    {
     "name": "stdout",
     "output_type": "stream",
     "text": [
      "['Positive', 'Neutral', 'Negative']\n",
      "Categories (3, object): ['Negative', 'Neutral', 'Positive']\n"
     ]
    }
   ],
   "source": [
    "print(ps_review_df_clean['Sentiment'].unique())"
   ]
  },
  {
   "cell_type": "code",
   "execution_count": 102,
   "id": "9319f51f",
   "metadata": {},
   "outputs": [
    {
     "data": {
      "image/png": "[encoded data removed]",
      "text/plain": [
       "<Figure size 600x400 with 1 Axes>"
      ]
     },
     "metadata": {},
     "output_type": "display_data"
    },
    {
     "name": "stdout",
     "output_type": "stream",
     "text": [
      "Sentiment\n",
      "Positive    17593\n",
      "Negative     6240\n",
      "Neutral      4161\n",
      "Name: count, dtype: int64\n"
     ]
    }
   ],
   "source": [
    "# Analyze the distribution of sentiments in the reviews dataset\n",
    "\n",
    "plt.figure(figsize=(6,4))\n",
    "sns.countplot(data=ps_review_df_clean, x='Sentiment', order=ps_review_df_clean['Sentiment'].value_counts().index)\n",
    "plt.title('Distribution of Sentiments in Reviews')\n",
    "plt.xlabel('Sentiment')\n",
    "plt.ylabel('Number of Reviews')\n",
    "plt.show()\n",
    "\n",
    "# Show counts for each sentiment\n",
    "print(ps_review_df_clean['Sentiment'].value_counts())"
   ]
  },
  {
   "cell_type": "code",
   "execution_count": 103,
   "id": "1fad135e",
   "metadata": {},
   "outputs": [
    {
     "name": "stdout",
     "output_type": "stream",
     "text": [
      "Sentiment\n",
      "Positive    62.845610\n",
      "Negative    22.290491\n",
      "Neutral     14.863899\n",
      "Name: proportion, dtype: float64\n"
     ]
    }
   ],
   "source": [
    "# Percentage distribution of sentiments\n",
    "sentiment_counts = ps_review_df_clean['Sentiment'].value_counts(normalize=True) * 100\n",
    "print(sentiment_counts)"
   ]
  },
  {
   "cell_type": "markdown",
   "id": "8bfb79e3",
   "metadata": {},
   "source": [
    "### Sentiment Statistics and Visualization"
   ]
  },
  {
   "cell_type": "code",
   "execution_count": 104,
   "id": "c59e952e",
   "metadata": {},
   "outputs": [
    {
     "name": "stdout",
     "output_type": "stream",
     "text": [
      "       Sentiment_Polarity  Sentiment_Subjectivity\n",
      "count        27994.000000            27994.000000\n",
      "mean             0.169990                0.483735\n",
      "std              0.344385                0.261186\n",
      "min             -1.000000                0.000000\n",
      "25%              0.000000                0.346154\n",
      "50%              0.140000                0.501591\n",
      "75%              0.400000                0.650000\n",
      "max              1.000000                1.000000\n"
     ]
    }
   ],
   "source": [
    "# Summary statistics for Sentiment_Polarity and Sentiment_Subjectivity\n",
    "print(ps_review_df_clean[['Sentiment_Polarity', 'Sentiment_Subjectivity']].describe())"
   ]
  },
  {
   "cell_type": "code",
   "execution_count": 105,
   "id": "a83102cb",
   "metadata": {},
   "outputs": [
    {
     "name": "stdout",
     "output_type": "stream",
     "text": [
      "           Sentiment_Polarity  Sentiment_Subjectivity\n",
      "Sentiment                                            \n",
      "Negative            -0.259043                0.536336\n",
      "Neutral              0.000000                0.080299\n",
      "Positive             0.362367                0.560497\n"
     ]
    },
    {
     "name": "stderr",
     "output_type": "stream",
     "text": [
      "C:\\Users\\jeshw\\AppData\\Local\\Temp\\ipykernel_11492\\3428079153.py:2: FutureWarning: The default of observed=False is deprecated and will be changed to True in a future version of pandas. Pass observed=False to retain current behavior or observed=True to adopt the future default and silence this warning.\n",
      "  print(ps_review_df_clean.groupby('Sentiment')[['Sentiment_Polarity', 'Sentiment_Subjectivity']].mean())\n"
     ]
    }
   ],
   "source": [
    "# Average polarity and subjectivity per sentiment\n",
    "print(ps_review_df_clean.groupby('Sentiment')[['Sentiment_Polarity', 'Sentiment_Subjectivity']].mean())"
   ]
  },
  {
   "cell_type": "code",
   "execution_count": 106,
   "id": "e65a7448",
   "metadata": {},
   "outputs": [
    {
     "data": {
      "image/png": "[encoded data removed]",
      "text/plain": [
       "<Figure size 800x400 with 1 Axes>"
      ]
     },
     "metadata": {},
     "output_type": "display_data"
    }
   ],
   "source": [
    "plt.figure(figsize=(8,4))\n",
    "sns.boxplot(data=ps_review_df_clean, x='Sentiment', y='Sentiment_Polarity')\n",
    "plt.title('Polarity Distribution by Sentiment')\n",
    "plt.show()"
   ]
  },
  {
   "cell_type": "code",
   "execution_count": 107,
   "id": "b8513800",
   "metadata": {},
   "outputs": [
    {
     "data": {
      "image/png": "[encoded data removed]",
      "text/plain": [
       "<Figure size 1000x600 with 1 Axes>"
      ]
     },
     "metadata": {},
     "output_type": "display_data"
    },
    {
     "data": {
      "image/png": "[encoded data removed]",
      "text/plain": [
       "<Figure size 1000x600 with 1 Axes>"
      ]
     },
     "metadata": {},
     "output_type": "display_data"
    }
   ],
   "source": [
    "# Calculate top 10 apps with most positive reviews\n",
    "top_positive = ps_review_df_clean[ps_review_df_clean['Sentiment'] == 'Positive']['App'].value_counts().head(10)\n",
    "\n",
    "# Calculate top 10 apps with most negative reviews\n",
    "top_negative = ps_review_df_clean[ps_review_df_clean['Sentiment'] == 'Negative']['App'].value_counts().head(10)\n",
    "\n",
    "# Visualize Top 10 Apps with Most Positive Reviews\n",
    "plt.figure(figsize=(10,6))\n",
    "top_positive.plot(kind='barh', color='tab:blue')\n",
    "plt.title('Top 10 Apps with Most Positive Reviews')\n",
    "plt.xlabel('Number of Positive Reviews')\n",
    "plt.ylabel('App')\n",
    "plt.gca().invert_yaxis()  # Highest at top\n",
    "plt.show()\n",
    "\n",
    "# Visualize Top 10 Apps with Most Negative Reviews\n",
    "plt.figure(figsize=(10,6))\n",
    "top_negative.plot(kind='barh', color='tab:orange')\n",
    "plt.title('Top 10 Apps with Most Negative Reviews')\n",
    "plt.xlabel('Number of Negative Reviews')\n",
    "plt.ylabel('App')\n",
    "plt.gca().invert_yaxis()\n",
    "plt.show()"
   ]
  },
  {
   "cell_type": "code",
   "execution_count": 108,
   "id": "9a757df9",
   "metadata": {},
   "outputs": [
    {
     "data": {
      "text/plain": [
       "count       27994.0\n",
       "mean     112.968993\n",
       "std      102.563392\n",
       "min             2.0\n",
       "25%            37.0\n",
       "50%            86.0\n",
       "75%           159.0\n",
       "max          2713.0\n",
       "Name: review_length, dtype: Float64"
      ]
     },
     "execution_count": 108,
     "metadata": {},
     "output_type": "execute_result"
    }
   ],
   "source": [
    "ps_review_df_clean['review_length'] = ps_review_df_clean['Translated_Review'].str.len()\n",
    "ps_review_df_clean['review_length'].describe()"
   ]
  },
  {
   "cell_type": "markdown",
   "id": "27216986",
   "metadata": {},
   "source": [
    "Most reviews are between 30 and 153 characters. There are some very short reviews"
   ]
  },
  {
   "cell_type": "code",
   "execution_count": 109,
   "id": "2a354821",
   "metadata": {},
   "outputs": [
    {
     "name": "stdout",
     "output_type": "stream",
     "text": [
      "0\n"
     ]
    }
   ],
   "source": [
    "print(ps_review_df_clean['Translated_Review'].duplicated().sum())"
   ]
  },
  {
   "cell_type": "code",
   "execution_count": 110,
   "id": "b9c13645",
   "metadata": {},
   "outputs": [
    {
     "name": "stdout",
     "output_type": "stream",
     "text": [
      "0\n",
      "(27994, 7)\n"
     ]
    }
   ],
   "source": [
    "ps_review_df_clean = ps_review_df_clean.drop_duplicates(subset=['Translated_Review'], keep='first').reset_index(drop=True)\n",
    "print(ps_review_df_clean['Translated_Review'].duplicated().sum())\n",
    "print(ps_review_df_clean.shape)"
   ]
  },
  {
   "cell_type": "code",
   "execution_count": 112,
   "id": "2d969c11",
   "metadata": {},
   "outputs": [
    {
     "name": "stdout",
     "output_type": "stream",
     "text": [
      "lang\n",
      "en         24953\n",
      "unknown     1174\n",
      "af           290\n",
      "no           221\n",
      "fr           181\n",
      "nl           139\n",
      "da           134\n",
      "it           103\n",
      "ro            89\n",
      "so            83\n",
      "ca            77\n",
      "tl            70\n",
      "et            66\n",
      "de            61\n",
      "id            45\n",
      "sl            44\n",
      "cy            42\n",
      "sv            39\n",
      "es            38\n",
      "hr            25\n",
      "sw            16\n",
      "sq            16\n",
      "pl            14\n",
      "pt            12\n",
      "fi            12\n",
      "sk            10\n",
      "cs            10\n",
      "vi             9\n",
      "hu             8\n",
      "tr             7\n",
      "lv             3\n",
      "lt             2\n",
      "uk             1\n",
      "Name: count, dtype: int64\n"
     ]
    }
   ],
   "source": [
    "from langdetect import detect, DetectorFactory, LangDetectException\n",
    "DetectorFactory.seed = 0  # for reproducibility\n",
    "\n",
    "def safe_detect(x):\n",
    "    try:\n",
    "        if isinstance(x, str) and len(x) > 10:\n",
    "            return detect(x)\n",
    "        else:\n",
    "            return 'unknown'\n",
    "    except LangDetectException:\n",
    "        return 'unknown'\n",
    "\n",
    "ps_review_df_clean['lang'] = ps_review_df_clean['Translated_Review'].apply(safe_detect)\n",
    "\n",
    "print(ps_review_df_clean['lang'].value_counts())"
   ]
  },
  {
   "cell_type": "code",
   "execution_count": null,
   "id": "13c7689a",
   "metadata": {},
   "outputs": [
    {
     "name": "stdout",
     "output_type": "stream",
     "text": [
      "(24953, 7)\n"
     ]
    }
   ],
   "source": [
    "# Create a new DataFrame with only English reviews\n",
    "ps_review_df_en = ps_review_df_clean[ps_review_df_clean['lang'] == 'en'].reset_index(drop=True)\n",
    "print(ps_review_df_en.shape)"
   ]
  },
  {
   "cell_type": "markdown",
   "id": "894adea1",
   "metadata": {},
   "source": [
    "### Sentiment Model Training (Naive Bayes)"
   ]
  },
  {
   "cell_type": "code",
   "execution_count": null,
   "id": "00e5e870",
   "metadata": {},
   "outputs": [],
   "source": [
    "import re\n",
    "from sklearn.feature_extraction.text import ENGLISH_STOP_WORDS\n",
    "from nltk.stem import PorterStemmer, WordNetLemmatizer\n",
    "\n",
    "# import nltk\n",
    "# nltk.download('wordnet')\n",
    "\n",
    "stemmer = PorterStemmer()\n",
    "lemmatizer = WordNetLemmatizer()\n",
    "\n",
    "def clean_text(text):\n",
    "    # Lowercase\n",
    "    text = text.lower()\n",
    "    # Remove punctuation, numbers, and special characters\n",
    "    text = re.sub(r'[^a-z\\s]', '', text)\n",
    "    # Remove stopwords and apply stemming\n",
    "    words = [stemmer.stem(word) for word in text.split() if word not in ENGLISH_STOP_WORDS]\n",
    "    # For lemmatization, use:\n",
    "    words = [lemmatizer.lemmatize(word) for word in words]\n",
    "    return ' '.join(words)\n",
    "\n",
    "ps_review_df_en['Translated_Review_clean'] = ps_review_df_en['Translated_Review'].apply(clean_text)"
   ]
  },
  {
   "cell_type": "code",
   "execution_count": null,
   "id": "aad3022e",
   "metadata": {},
   "outputs": [],
   "source": [
    "from sklearn.feature_extraction.text import CountVectorizer\n",
    "from sklearn.model_selection import train_test_split\n",
    "\n",
    "# Feature extraction\n",
    "vectorizer = CountVectorizer()\n",
    "X = vectorizer.fit_transform(ps_review_df_en['Translated_Review_clean'])\n",
    "y = ps_review_df_en['Sentiment']\n",
    "\n",
    "# Train/test split\n",
    "X_train, X_test, y_train, y_test = train_test_split(X, y, test_size=0.2, random_state=42, stratify=y)"
   ]
  },
  {
   "cell_type": "code",
   "execution_count": null,
   "id": "78c74239",
   "metadata": {},
   "outputs": [
    {
     "name": "stdout",
     "output_type": "stream",
     "text": [
      "              precision    recall  f1-score   support\n",
      "\n",
      "    Negative       0.65      0.62      0.63      1173\n",
      "     Neutral       0.56      0.11      0.19       605\n",
      "    Positive       0.77      0.90      0.83      3213\n",
      "\n",
      "    accuracy                           0.74      4991\n",
      "   macro avg       0.66      0.54      0.55      4991\n",
      "weighted avg       0.72      0.74      0.71      4991\n",
      "\n",
      "Balanced Accuracy: 0.5444818978415816\n"
     ]
    }
   ],
   "source": [
    "from sklearn.naive_bayes import MultinomialNB\n",
    "from sklearn.metrics import classification_report, confusion_matrix, balanced_accuracy_score\n",
    "\n",
    "# Train the Multinomial Naive Bayes model\n",
    "nb_model = MultinomialNB()\n",
    "nb_model.fit(X_train, y_train)\n",
    "\n",
    "# Predict on test set\n",
    "y_pred = nb_model.predict(X_test)\n",
    "\n",
    "# Evaluate\n",
    "print(classification_report(y_test, y_pred)),\n",
    "print(\"Balanced Accuracy:\", balanced_accuracy_score(y_test, y_pred))"
   ]
  },
  {
   "cell_type": "markdown",
   "id": "c31f5c3f",
   "metadata": {},
   "source": [
    "The model predicts \"Positive\" sentiment well (High recall (0.91) and F1 (0.84), Expected as its the majority class).\n",
    "\n",
    "Somewhat reasonable for \"Negative\" class. \n",
    "\n",
    "The model rarely predicts Neutral correctly (Very low recall (0.11), F1 (0.18) ).\n",
    "\n",
    "\n",
    "Accuracy (0.74): 74% of all predictions are correct, but this is inflated by the majority class (Positive)\n",
    "\n",
    "Balanced Accuracy (0.54): Low value showing the model struggles with minority classes."
   ]
  },
  {
   "cell_type": "code",
   "execution_count": null,
   "id": "78deb467",
   "metadata": {},
   "outputs": [
    {
     "name": "stdout",
     "output_type": "stream",
     "text": [
      "              precision    recall  f1-score   support\n",
      "\n",
      "    Negative       0.67      0.65      0.66      1173\n",
      "     Neutral       0.47      0.38      0.42       605\n",
      "    Positive       0.82      0.85      0.84      3213\n",
      "\n",
      "    accuracy                           0.75      4991\n",
      "   macro avg       0.65      0.63      0.64      4991\n",
      "weighted avg       0.74      0.75      0.75      4991\n",
      "\n",
      "Balanced Accuracy: 0.6304008706395748\n"
     ]
    }
   ],
   "source": [
    "# Feature extraction with limited vocabulary size to 3000\n",
    "vectorizer_limited = CountVectorizer(max_features=3000)\n",
    "X_limit = vectorizer_limited.fit_transform(ps_review_df_en['Translated_Review_clean'])\n",
    "y_limit = ps_review_df_en['Sentiment']\n",
    "\n",
    "# Train/test split\n",
    "X_train_limit, X_test_limit, y_train_limit, y_test_limit = train_test_split(X_limit, y_limit, test_size=0.2, random_state=42, stratify=y_limit)\n",
    "\n",
    "# Train the Multinomial Naive Bayes model\n",
    "nb_model.fit(X_train_limit, y_train_limit)\n",
    "\n",
    "# Predict on test set\n",
    "y_pred_limit = nb_model.predict(X_test_limit)\n",
    "\n",
    "# Evaluate\n",
    "print(classification_report(y_test_limit, y_pred_limit)),\n",
    "print(\"Balanced Accuracy:\", balanced_accuracy_score(y_test_limit, y_pred_limit))"
   ]
  },
  {
   "cell_type": "markdown",
   "id": "aca30768",
   "metadata": {},
   "source": [
    "Scores are higher than before with \"Neutral\" reviews (Recall 0.38, F1 0.42)\n",
    "\n",
    "Balanced Accuracy (0.63): Improved, but the model continues to struggle with minority classes, Neutral."
   ]
  },
  {
   "cell_type": "markdown",
   "id": "747ca5ff",
   "metadata": {},
   "source": [
    "## LLM Sentiment Classification"
   ]
  },
  {
   "cell_type": "markdown",
   "id": "7b84b8f9",
   "metadata": {},
   "source": [
    "### LLM Sentiment Prediction Example"
   ]
  },
  {
   "cell_type": "code",
   "execution_count": 39,
   "id": "f4f10487",
   "metadata": {},
   "outputs": [
    {
     "name": "stdout",
     "output_type": "stream",
     "text": [
      "--------------------------------\n",
      "Output:\n",
      "Positive\n",
      "ResponseUsage(input_tokens=42, input_tokens_details=InputTokensDetails(cached_tokens=0), output_tokens=7, output_tokens_details=OutputTokensDetails(reasoning_tokens=0), total_tokens=49)\n"
     ]
    }
   ],
   "source": [
    "from openai import OpenAI\n",
    "\n",
    "client = OpenAI()\n",
    "\n",
    "prompt = \"Classify sentiment of the review as Positive|Neutral|Negative. Return one word only.\" \n",
    "\n",
    "\n",
    "response = client.responses.create(\n",
    "    model=\"gpt-5-mini\",\n",
    "    input= [{ 'role': 'developer', 'content': prompt }, \n",
    "            { 'role': 'user', 'content': 'The food that the restaurant was great! I recommend it to everyone.' }],\n",
    "    reasoning = {\n",
    "        \"effort\": \"minimal\"\n",
    "    },\n",
    ")\n",
    "\n",
    "print(\"--------------------------------\")\n",
    "print(\"Output:\")\n",
    "print(response.output_text)\n",
    "print(response.usage)"
   ]
  },
  {
   "cell_type": "code",
   "execution_count": 40,
   "id": "9d23b10c",
   "metadata": {},
   "outputs": [
    {
     "data": {
      "text/plain": [
       "'Positive'"
      ]
     },
     "execution_count": 40,
     "metadata": {},
     "output_type": "execute_result"
    }
   ],
   "source": [
    "import json\n",
    "\n",
    "def classify_review_sentiment(review_text):\n",
    "    prompt = (\n",
    "        \"You are an expert sentiment classifier for Google Play Store app reviews. \"\n",
    "        \"Given a user review, respond ONLY with a valid JSON object with one field: \"\n",
    "        \"'sentiment' (one of 'Positive', 'Neutral', 'Negative'). \"\n",
    "        \"Example: {\\\"sentiment\\\": \\\"Positive\\\"}\"\n",
    "    )\n",
    "    try:\n",
    "        response = client.responses.create(\n",
    "            model=\"gpt-5-mini\",\n",
    "            input=[\n",
    "                {\"role\": \"developer\", \"content\": prompt},\n",
    "                {\"role\": \"user\", \"content\": review_text}\n",
    "            ],\n",
    "            reasoning={\"effort\": \"minimal\"}\n",
    "        )\n",
    "\n",
    "        # Parse JSON output from LLM\n",
    "        try:\n",
    "            result = json.loads(response.output_text)\n",
    "            return result.get(\"sentiment\", None)\n",
    "        except Exception as parse_err:\n",
    "            print(\"JSON parse error:\", parse_err)\n",
    "            print(\"Raw output:\", response.output_text)\n",
    "            return None\n",
    "        \n",
    "    except Exception as e:\n",
    "        print(\"API call failed:\", e)\n",
    "        return None\n",
    "\n",
    "# Example test:\n",
    "classify_review_sentiment(\"The app is easy to use and very helpful. I love it!\")"
   ]
  },
  {
   "cell_type": "markdown",
   "id": "547fbd0e",
   "metadata": {},
   "source": [
    "### LLM vs Naive Bayes Comparison"
   ]
  },
  {
   "cell_type": "code",
   "execution_count": 41,
   "id": "c377e334",
   "metadata": {},
   "outputs": [],
   "source": [
    "import pandas as pd\n",
    "\n",
    "# Take a random sample of 100 reviews\n",
    "sample_df = ps_review_df_en.sample(n=100, random_state=42).copy()\n",
    "\n",
    "# Get NB predictions\n",
    "sample_df['NB_Prediction'] = nb_model.predict(vectorizer_limited.transform(sample_df['Translated_Review_clean']))\n",
    "\n",
    "# Get LLM predictions directly \n",
    "sample_df['LLM_Prediction'] = sample_df['Translated_Review'].apply(classify_review_sentiment)"
   ]
  },
  {
   "cell_type": "code",
   "execution_count": 42,
   "id": "a5189888",
   "metadata": {},
   "outputs": [
    {
     "name": "stdout",
     "output_type": "stream",
     "text": [
      "Naive Bayes Performance on Sample:\n",
      "              precision    recall  f1-score   support\n",
      "\n",
      "    Negative       0.75      0.60      0.67        25\n",
      "     Neutral       0.33      0.44      0.38         9\n",
      "    Positive       0.84      0.86      0.85        66\n",
      "\n",
      "    accuracy                           0.76       100\n",
      "   macro avg       0.64      0.64      0.63       100\n",
      "weighted avg       0.77      0.76      0.76       100\n",
      "\n",
      "Balanced Accuracy (NB): 0.636026936026936\n",
      "\n",
      "LLM Performance on Sample:\n",
      "              precision    recall  f1-score   support\n",
      "\n",
      "    Negative       0.42      0.88      0.56        25\n",
      "     Neutral       0.29      0.22      0.25         9\n",
      "    Positive       0.95      0.58      0.72        66\n",
      "\n",
      "    accuracy                           0.62       100\n",
      "   macro avg       0.55      0.56      0.51       100\n",
      "weighted avg       0.76      0.62      0.64       100\n",
      "\n",
      "Balanced Accuracy (LLM): 0.5593265993265993\n"
     ]
    }
   ],
   "source": [
    "# Compare NB model performance on the sample\n",
    "print(\"Naive Bayes Performance on Sample:\")\n",
    "print(classification_report(sample_df['Sentiment'], sample_df['NB_Prediction']))\n",
    "print(\"Balanced Accuracy (NB):\", balanced_accuracy_score(sample_df['Sentiment'], sample_df['NB_Prediction']))\n",
    "\n",
    "# Compare LLM performance on the sample\n",
    "print(\"\\nLLM Performance on Sample:\")\n",
    "print(classification_report(sample_df['Sentiment'], sample_df['LLM_Prediction']))\n",
    "print(\"Balanced Accuracy (LLM):\", balanced_accuracy_score(sample_df['Sentiment'], sample_df['LLM_Prediction']))"
   ]
  },
  {
   "cell_type": "code",
   "execution_count": 43,
   "id": "e8603ada",
   "metadata": {},
   "outputs": [
    {
     "name": "stdout",
     "output_type": "stream",
     "text": [
      "Agreement between NB and LLM predictions: 61.00%\n",
      "         LLM_Pos  LLM_Neut  LLM_Neg\n",
      "NB_Pos        40         6       22\n",
      "NB_Neut        0         1       11\n",
      "NB_Neg         0         0       20\n"
     ]
    },
    {
     "data": {
      "image/png": "[encoded data removed]",
      "text/plain": [
       "<Figure size 600x400 with 2 Axes>"
      ]
     },
     "metadata": {},
     "output_type": "display_data"
    }
   ],
   "source": [
    "# Compare NB and LLM predictions\n",
    "agreement = (sample_df['NB_Prediction'] == sample_df['LLM_Prediction']).mean()\n",
    "print(f\"Agreement between NB and LLM predictions: {agreement:.2%}\")\n",
    "\n",
    "# Confusion matrix\n",
    "conf_matrix = confusion_matrix(sample_df['NB_Prediction'], sample_df['LLM_Prediction'], labels=['Positive', 'Neutral', 'Negative'])\n",
    "conf_df = pd.DataFrame(conf_matrix, index=['NB_Pos', 'NB_Neut', 'NB_Neg'], columns=['LLM_Pos', 'LLM_Neut', 'LLM_Neg'])\n",
    "print(conf_df)\n",
    "\n",
    "# Visualize confusion matrix\n",
    "plt.figure(figsize=(6,4))\n",
    "sns.heatmap(conf_df, annot=True, fmt='d', cmap='Blues')\n",
    "plt.title('NB vs LLM Sentiment Prediction Confusion Matrix')\n",
    "plt.xlabel('LLM Prediction')\n",
    "plt.ylabel('NB Prediction')\n",
    "plt.show()"
   ]
  },
  {
   "cell_type": "markdown",
   "id": "f38f3dca",
   "metadata": {},
   "source": [
    "For 62 out of 100 reviews, both models predicted the same sentiment.\n",
    "The models are most consistent for \"Negative\" reviews.\n",
    "\"Neutral\" is the hardest class for both models to agree on."
   ]
  },
  {
   "cell_type": "markdown",
   "id": "260c4790",
   "metadata": {},
   "source": [
    "###  Analysis of Prediction Mismatches"
   ]
  },
  {
   "cell_type": "code",
   "execution_count": 44,
   "id": "c9c23664",
   "metadata": {},
   "outputs": [
    {
     "name": "stdout",
     "output_type": "stream",
     "text": [
      "Review: It's great game I really love it, reason I gave 3 stars earning diamonds make different choices game. It gives every finished chapter options require 20 way earn I want spend real money decide better option. Fix it'll 5 stars\n",
      "Ground Truth: Positive, LLM: Negative\n",
      "---\n",
      "Review: I reading reviews i'm sure, want waste time putting receipt get ten cents cash year two, i'm going get little two years i'll better\n",
      "Ground Truth: Positive, LLM: Negative\n",
      "---\n",
      "Review: I like game alot fair. If certain level able compete someone levels high alot advantages. It would better fair\n",
      "Ground Truth: Positive, LLM: Negative\n",
      "---\n",
      "Review: Crash Every time open it.\n",
      "Ground Truth: Neutral, LLM: Negative\n",
      "---\n",
      "Review: Amazing photo editing tips tricks....but lately I able upload photos. Please solve problem\n",
      "Ground Truth: Positive, LLM: Negative\n",
      "---\n",
      "Review: It's fine, I keep getting messages people America even I settings set women America. For reason specifically women Philippines, that's ok although would nice get connected women closer.\n",
      "Ground Truth: Positive, LLM: Neutral\n",
      "---\n",
      "Review: updated let \"start now\" record. deleting different one.\n",
      "Ground Truth: Neutral, LLM: Negative\n",
      "---\n",
      "Review: The issue faced till sometimes didnt work..it automatically stoped..otherwise superb..if u guys fix problem better football this..\n",
      "Ground Truth: Positive, LLM: Negative\n",
      "---\n",
      "Review: This works well simple use. 10/10 would flashlight\n",
      "Ground Truth: Neutral, LLM: Positive\n",
      "---\n",
      "Review: The newest update fixed issues had.. totally love it!!!! I loved game I updated would let play I did... It load anything. Yellow load bar goes back nothing stays there. I'm currently trying uninstall reinstall... IDK...\n",
      "Ground Truth: Positive, LLM: Negative\n",
      "---\n"
     ]
    }
   ],
   "source": [
    "# Show mismatches for LLM from ground truth\n",
    "mismatches = sample_df[sample_df['Sentiment'] != sample_df['LLM_Prediction']]\n",
    "for idx, row in mismatches.head(10).iterrows():\n",
    "    print(f\"Review: {row['Translated_Review']}\")\n",
    "    print(f\"Ground Truth: {row['Sentiment']}, LLM: {row['LLM_Prediction']}\")\n",
    "    print(\"---\")"
   ]
  },
  {
   "cell_type": "markdown",
   "id": "960d6910",
   "metadata": {},
   "source": [
    "During evaluation, I found that the LLM (GPT-5-mini) often produced sentiment predictions that were more reasonable than the dataset's ground truth labels. Manual inspection of mismatches revealed that many \"ground truth\" labels were inconsistent or incorrect, especially for ambiguous or mixed reviews.\n",
    "\n",
    "This highlights a common real-world challenge: **label noise and quality issues in public datasets**. Advanced models like LLMs can sometimes outperform noisy human annotations. Metrics may underestimate LLM performance due to label noise. Also it seems LLM is more likely to classify ambiguous reviews as \"Negative\" compared to NB."
   ]
  },
  {
   "cell_type": "markdown",
   "id": "0bee8ed7",
   "metadata": {},
   "source": [
    "# Task 3. Insights and Recommendations"
   ]
  },
  {
   "cell_type": "markdown",
   "id": "5521f7e0",
   "metadata": {},
   "source": [
    "## Summarizing App Reviews with LLM"
   ]
  },
  {
   "cell_type": "code",
   "execution_count": 46,
   "id": "1ea853f8",
   "metadata": {},
   "outputs": [
    {
     "data": {
      "text/html": [
       "<div>\n",
       "<style scoped>\n",
       "    .dataframe tbody tr th:only-of-type {\n",
       "        vertical-align: middle;\n",
       "    }\n",
       "\n",
       "    .dataframe tbody tr th {\n",
       "        vertical-align: top;\n",
       "    }\n",
       "\n",
       "    .dataframe thead th {\n",
       "        text-align: right;\n",
       "    }\n",
       "</style>\n",
       "<table border=\"1\" class=\"dataframe\">\n",
       "  <thead>\n",
       "    <tr style=\"text-align: right;\">\n",
       "      <th></th>\n",
       "      <th>App</th>\n",
       "      <th>Translated_Review</th>\n",
       "      <th>Sentiment</th>\n",
       "      <th>Sentiment_Polarity</th>\n",
       "      <th>Sentiment_Subjectivity</th>\n",
       "      <th>review_length</th>\n",
       "      <th>lang</th>\n",
       "      <th>Translated_Review_clean</th>\n",
       "      <th>Category</th>\n",
       "      <th>Rating</th>\n",
       "      <th>Reviews</th>\n",
       "      <th>Size</th>\n",
       "      <th>Installs</th>\n",
       "      <th>Type</th>\n",
       "      <th>Price</th>\n",
       "      <th>Content Rating</th>\n",
       "      <th>Genres</th>\n",
       "      <th>Last Updated</th>\n",
       "      <th>Current Ver</th>\n",
       "      <th>Android Ver</th>\n",
       "    </tr>\n",
       "  </thead>\n",
       "  <tbody>\n",
       "    <tr>\n",
       "      <th>0</th>\n",
       "      <td>10 Best Foods for You</td>\n",
       "      <td>I like eat delicious food. That's I'm cooking ...</td>\n",
       "      <td>Positive</td>\n",
       "      <td>1.00</td>\n",
       "      <td>0.533333</td>\n",
       "      <td>122</td>\n",
       "      <td>en</td>\n",
       "      <td>like eat delici food that im cook food case be...</td>\n",
       "      <td>HEALTH_AND_FITNESS</td>\n",
       "      <td>4.0</td>\n",
       "      <td>2490.0</td>\n",
       "      <td>3.8M</td>\n",
       "      <td>500000.0</td>\n",
       "      <td>Free</td>\n",
       "      <td>0.0</td>\n",
       "      <td>Everyone 10+</td>\n",
       "      <td>Health &amp; Fitness</td>\n",
       "      <td>2017-02-17</td>\n",
       "      <td>1.9</td>\n",
       "      <td>2.3.3 and up</td>\n",
       "    </tr>\n",
       "    <tr>\n",
       "      <th>1</th>\n",
       "      <td>10 Best Foods for You</td>\n",
       "      <td>This help eating healthy exercise regular basis</td>\n",
       "      <td>Positive</td>\n",
       "      <td>0.25</td>\n",
       "      <td>0.288462</td>\n",
       "      <td>47</td>\n",
       "      <td>en</td>\n",
       "      <td>help eat healthi exercis regular basi</td>\n",
       "      <td>HEALTH_AND_FITNESS</td>\n",
       "      <td>4.0</td>\n",
       "      <td>2490.0</td>\n",
       "      <td>3.8M</td>\n",
       "      <td>500000.0</td>\n",
       "      <td>Free</td>\n",
       "      <td>0.0</td>\n",
       "      <td>Everyone 10+</td>\n",
       "      <td>Health &amp; Fitness</td>\n",
       "      <td>2017-02-17</td>\n",
       "      <td>1.9</td>\n",
       "      <td>2.3.3 and up</td>\n",
       "    </tr>\n",
       "    <tr>\n",
       "      <th>2</th>\n",
       "      <td>10 Best Foods for You</td>\n",
       "      <td>Works great especially going grocery store</td>\n",
       "      <td>Positive</td>\n",
       "      <td>0.40</td>\n",
       "      <td>0.875000</td>\n",
       "      <td>42</td>\n",
       "      <td>en</td>\n",
       "      <td>work great especi go groceri store</td>\n",
       "      <td>HEALTH_AND_FITNESS</td>\n",
       "      <td>4.0</td>\n",
       "      <td>2490.0</td>\n",
       "      <td>3.8M</td>\n",
       "      <td>500000.0</td>\n",
       "      <td>Free</td>\n",
       "      <td>0.0</td>\n",
       "      <td>Everyone 10+</td>\n",
       "      <td>Health &amp; Fitness</td>\n",
       "      <td>2017-02-17</td>\n",
       "      <td>1.9</td>\n",
       "      <td>2.3.3 and up</td>\n",
       "    </tr>\n",
       "    <tr>\n",
       "      <th>3</th>\n",
       "      <td>10 Best Foods for You</td>\n",
       "      <td>Looking forward app,</td>\n",
       "      <td>Neutral</td>\n",
       "      <td>0.00</td>\n",
       "      <td>0.000000</td>\n",
       "      <td>20</td>\n",
       "      <td>en</td>\n",
       "      <td>look forward app</td>\n",
       "      <td>HEALTH_AND_FITNESS</td>\n",
       "      <td>4.0</td>\n",
       "      <td>2490.0</td>\n",
       "      <td>3.8M</td>\n",
       "      <td>500000.0</td>\n",
       "      <td>Free</td>\n",
       "      <td>0.0</td>\n",
       "      <td>Everyone 10+</td>\n",
       "      <td>Health &amp; Fitness</td>\n",
       "      <td>2017-02-17</td>\n",
       "      <td>1.9</td>\n",
       "      <td>2.3.3 and up</td>\n",
       "    </tr>\n",
       "    <tr>\n",
       "      <th>4</th>\n",
       "      <td>10 Best Foods for You</td>\n",
       "      <td>It helpful site ! It help foods get !</td>\n",
       "      <td>Neutral</td>\n",
       "      <td>0.00</td>\n",
       "      <td>0.000000</td>\n",
       "      <td>37</td>\n",
       "      <td>en</td>\n",
       "      <td>help site help food</td>\n",
       "      <td>HEALTH_AND_FITNESS</td>\n",
       "      <td>4.0</td>\n",
       "      <td>2490.0</td>\n",
       "      <td>3.8M</td>\n",
       "      <td>500000.0</td>\n",
       "      <td>Free</td>\n",
       "      <td>0.0</td>\n",
       "      <td>Everyone 10+</td>\n",
       "      <td>Health &amp; Fitness</td>\n",
       "      <td>2017-02-17</td>\n",
       "      <td>1.9</td>\n",
       "      <td>2.3.3 and up</td>\n",
       "    </tr>\n",
       "  </tbody>\n",
       "</table>\n",
       "</div>"
      ],
      "text/plain": [
       "                     App                                  Translated_Review  \\\n",
       "0  10 Best Foods for You  I like eat delicious food. That's I'm cooking ...   \n",
       "1  10 Best Foods for You    This help eating healthy exercise regular basis   \n",
       "2  10 Best Foods for You         Works great especially going grocery store   \n",
       "3  10 Best Foods for You                               Looking forward app,   \n",
       "4  10 Best Foods for You              It helpful site ! It help foods get !   \n",
       "\n",
       "  Sentiment  Sentiment_Polarity  Sentiment_Subjectivity  review_length lang  \\\n",
       "0  Positive                1.00                0.533333            122   en   \n",
       "1  Positive                0.25                0.288462             47   en   \n",
       "2  Positive                0.40                0.875000             42   en   \n",
       "3   Neutral                0.00                0.000000             20   en   \n",
       "4   Neutral                0.00                0.000000             37   en   \n",
       "\n",
       "                             Translated_Review_clean            Category  \\\n",
       "0  like eat delici food that im cook food case be...  HEALTH_AND_FITNESS   \n",
       "1              help eat healthi exercis regular basi  HEALTH_AND_FITNESS   \n",
       "2                 work great especi go groceri store  HEALTH_AND_FITNESS   \n",
       "3                                   look forward app  HEALTH_AND_FITNESS   \n",
       "4                                help site help food  HEALTH_AND_FITNESS   \n",
       "\n",
       "   Rating  Reviews  Size  Installs  Type  Price Content Rating  \\\n",
       "0     4.0   2490.0  3.8M  500000.0  Free    0.0   Everyone 10+   \n",
       "1     4.0   2490.0  3.8M  500000.0  Free    0.0   Everyone 10+   \n",
       "2     4.0   2490.0  3.8M  500000.0  Free    0.0   Everyone 10+   \n",
       "3     4.0   2490.0  3.8M  500000.0  Free    0.0   Everyone 10+   \n",
       "4     4.0   2490.0  3.8M  500000.0  Free    0.0   Everyone 10+   \n",
       "\n",
       "             Genres Last Updated Current Ver   Android Ver  \n",
       "0  Health & Fitness   2017-02-17         1.9  2.3.3 and up  \n",
       "1  Health & Fitness   2017-02-17         1.9  2.3.3 and up  \n",
       "2  Health & Fitness   2017-02-17         1.9  2.3.3 and up  \n",
       "3  Health & Fitness   2017-02-17         1.9  2.3.3 and up  \n",
       "4  Health & Fitness   2017-02-17         1.9  2.3.3 and up  "
      ]
     },
     "execution_count": 46,
     "metadata": {},
     "output_type": "execute_result"
    }
   ],
   "source": [
    "# Merge reviews with app metadata\n",
    "merged_df = pd.merge(ps_review_df_en, ps_df_clean, on='App', how='inner')\n",
    "merged_df.head()"
   ]
  },
  {
   "cell_type": "code",
   "execution_count": 48,
   "id": "9d75ca01",
   "metadata": {},
   "outputs": [
    {
     "name": "stdout",
     "output_type": "stream",
     "text": [
      "Review 1: I like eat delicious food. That's I'm cooking food myself, case \"10 Best Foods\" helps lot, also \"Best Before (Shelf Life)\"\n",
      "Review 2: This help eating healthy exercise regular basis\n",
      "Review 3: Works great especially going grocery store\n",
      "Review 4: Looking forward app,\n",
      "Review 5: It helpful site ! It help foods get !\n",
      "Review 6: Useful information The amount spelling errors questions validity information shared. Once fixed, 5 stars given.\n",
      "Review 7: Thank you! Great app!! Add arthritis, eyes, immunity, kidney/liver detox foods please. :)\n",
      "Review 8: Greatest ever Completely awesome maintain health.... This must ppl there... Love it!!!\n",
      "Review 9: Good health...... Good health first priority.......\n",
      "Review 10: Health It's important world either life . think? :)\n",
      "Review 11: Mrs sunita bhati I thankful developers,to make kind app, really good healthy food body\n",
      "Review 12: Very Useful in diabetes age 30. I need control sugar. thanks\n",
      "Review 13: Healthy Really helped\n",
      "Review 14: I found lot wealth form health...\n",
      "Review 15: Because I found important.\n",
      "Review 16: Healthy Eating\n",
      "Review 17: Very good Simply good\n",
      "Review 18: Thanks advice. Downloaded Adobe reader still can't get recipe book?..\n",
      "Review 19: No recipe book Unable recipe book.\n",
      "Review 20: Absolutely Fabulous Phenomenal\n",
      "Review 21: Great Love food\n",
      "Review 22: Excellent It really works\n",
      "Review 23: WEALTH OF INFORMATION Very informative ... easy understand. (The ads middle page interupted read). Update: My \"ad comment\" NOT objection ads, literally position ads. Smack dab MIDDLE. I new spartphones & apps. Didnt know NOT Click eveything I saw... But, ... Full Review\n",
      "Review 24: Great app. Love\n",
      "Review 25: Loved Very helpful\n",
      "Review 26: Good healthy foods.\n",
      "Review 27: Waste time It needs internet time n ask calls information\n",
      "Review 28: Best thing I lost ten lbs. two months help tips\n",
      "Review 29: Ten best food promote good health Good health essential long healthy lifestyle make habit eat foods promote good health. Eat fruits veggies every day.\n",
      "Review 30: Healthy Food Really good information eat healthy\n",
      "Review 31: My mom dad important thing This good share\n",
      "Review 32: A big thanks ds I got bst gd health\n",
      "Review 33: Lovely Best everyone needs\n",
      "Review 34: Love It I lost 6Pounds far 215 209\n",
      "Review 35: Thanks helpful app.\n",
      "Review 36: good food really good eat\n",
      "Review 37: Thanks Thank u much\n",
      "Review 38: Love This really good\n",
      "Review 39: This helpful\n",
      "Review 40: Very useful\n",
      "Review 41: Very informative\n",
      "Review 42: Weight loss Not bad\n",
      "Review 43: 10 best foods 4u Excellent chose foods\n",
      "Review 44: This needed most.\n",
      "Review 45: Best food Thank you recipe book\n",
      "Review 46: I Love Good\n",
      "Review 47: Quick Read.\n",
      "Review 48: Great ideas\n",
      "Review 49: Great Great\n",
      "Review 50: Food list easy I predibetic, I scared. All Dr. said potatoes, rice, bread. He never told I could eat. I supplied paperwork stating things could happen me. This tells get works. Thank calming down.AWESOME APP. GET IT!!!!\n",
      "Review 51: Great wife. My wife enjoy much. She's kinda person like follow health diet... She's spending much time front PC find appropriate diet food her. Now found magnificent app! Thank you! Thumbs up.\n",
      "Review 52: Great! Very interesting useful application. I like it!\n",
      "Review 53: This 5 starr Download\n",
      "Review 54: Nice Nice collection\n",
      "Review 55: Interesting. It interesting info, I think worth storage space phone. I'd rather research computer print list. Neat idea, make life easier, provide entertainment, I expect app.\n",
      "Review 56: Luv it! Simple, easy understand, well thought I follow step step problems see results. I also luv apps, gives food choices. But looks like foundation. Keep good work!\n",
      "Review 57: Not good Its good u net connection u can't play app.so much good.\n",
      "Review 58: Awesome resources I begin new journey. I can't see great results!\n",
      "Review 59: Boring. I thought actually just texts that's it. Too poor old texts....\n",
      "Review 60: Love app. It gives way good idea I buying store eating daily basis\n",
      "Review 61: Great Its really best unique provides detailed information food nutritious staying healthy hats developer giving free.\n",
      "Review 62: Nothing special! Could find anything useful!\n"
     ]
    }
   ],
   "source": [
    "def format_reviews_for_llm(reviews):\n",
    "    # Number each review for clarity\n",
    "    return \"\\n\".join([f\"Review {i+1}: {r}\" for i, r in enumerate(reviews)])\n",
    "\n",
    "# Group reviews per app with identifiers\n",
    "app_reviews = merged_df.groupby('App')['Translated_Review'].apply(list).reset_index()\n",
    "app_reviews['Reviews_for_LLM'] = app_reviews['Translated_Review'].apply(format_reviews_for_llm)\n",
    "\n",
    "# Example:\n",
    "print(app_reviews.loc[0, 'Reviews_for_LLM'])"
   ]
  },
  {
   "cell_type": "code",
   "execution_count": 55,
   "id": "238297fe",
   "metadata": {},
   "outputs": [
    {
     "data": {
      "text/html": [
       "<div>\n",
       "<style scoped>\n",
       "    .dataframe tbody tr th:only-of-type {\n",
       "        vertical-align: middle;\n",
       "    }\n",
       "\n",
       "    .dataframe tbody tr th {\n",
       "        vertical-align: top;\n",
       "    }\n",
       "\n",
       "    .dataframe thead th {\n",
       "        text-align: right;\n",
       "    }\n",
       "</style>\n",
       "<table border=\"1\" class=\"dataframe\">\n",
       "  <thead>\n",
       "    <tr style=\"text-align: right;\">\n",
       "      <th></th>\n",
       "      <th>App</th>\n",
       "      <th>Translated_Review</th>\n",
       "      <th>Reviews_for_LLM</th>\n",
       "      <th>Ground_Truth</th>\n",
       "    </tr>\n",
       "  </thead>\n",
       "  <tbody>\n",
       "    <tr>\n",
       "      <th>109</th>\n",
       "      <td>Angry Birds Classic</td>\n",
       "      <td>[Way many ads. I remember Angry Birds first ca...</td>\n",
       "      <td>Review 1: Way many ads. I remember Angry Birds...</td>\n",
       "      <td>Negative</td>\n",
       "    </tr>\n",
       "    <tr>\n",
       "      <th>300</th>\n",
       "      <td>Calorie Counter - Macros</td>\n",
       "      <td>[Works great. Helpful. Fairly user friendly. O...</td>\n",
       "      <td>Review 1: Works great. Helpful. Fairly user fr...</td>\n",
       "      <td>Positive</td>\n",
       "    </tr>\n",
       "    <tr>\n",
       "      <th>349</th>\n",
       "      <td>ColorNote Notepad Notes</td>\n",
       "      <td>[This best note system I've ever used! Easy si...</td>\n",
       "      <td>Review 1: This best note system I've ever used...</td>\n",
       "      <td>Positive</td>\n",
       "    </tr>\n",
       "    <tr>\n",
       "      <th>525</th>\n",
       "      <td>Facebook</td>\n",
       "      <td>[If I open link different browser, refreshes f...</td>\n",
       "      <td>Review 1: If I open link different browser, re...</td>\n",
       "      <td>Negative</td>\n",
       "    </tr>\n",
       "  </tbody>\n",
       "</table>\n",
       "</div>"
      ],
      "text/plain": [
       "                          App  \\\n",
       "109       Angry Birds Classic   \n",
       "300  Calorie Counter - Macros   \n",
       "349   ColorNote Notepad Notes   \n",
       "525                  Facebook   \n",
       "\n",
       "                                     Translated_Review  \\\n",
       "109  [Way many ads. I remember Angry Birds first ca...   \n",
       "300  [Works great. Helpful. Fairly user friendly. O...   \n",
       "349  [This best note system I've ever used! Easy si...   \n",
       "525  [If I open link different browser, refreshes f...   \n",
       "\n",
       "                                       Reviews_for_LLM Ground_Truth  \n",
       "109  Review 1: Way many ads. I remember Angry Birds...     Negative  \n",
       "300  Review 1: Works great. Helpful. Fairly user fr...     Positive  \n",
       "349  Review 1: This best note system I've ever used...     Positive  \n",
       "525  Review 1: If I open link different browser, re...     Negative  "
      ]
     },
     "execution_count": 55,
     "metadata": {},
     "output_type": "execute_result"
    }
   ],
   "source": [
    "# Get top 2 apps by positive and negative review count\n",
    "top2_pos = ps_review_df_en[ps_review_df_en['Sentiment'] == 'Positive']['App'].value_counts().head(2).index.tolist()\n",
    "top2_neg = ps_review_df_en[ps_review_df_en['Sentiment'] == 'Negative']['App'].value_counts().head(2).index.tolist()\n",
    "\n",
    "# Filter app_reviews for these apps\n",
    "selected_apps = top2_pos + top2_neg\n",
    "selected_reviews = app_reviews[app_reviews['App'].isin(selected_apps)].copy()\n",
    "selected_reviews['Ground_Truth'] = selected_reviews['App'].map(\n",
    "    merged_df.groupby('App')['Sentiment'].agg(lambda x: x.mode()[0])\n",
    ")\n",
    "selected_reviews\n"
   ]
  },
  {
   "cell_type": "code",
   "execution_count": 54,
   "id": "f3b59a38",
   "metadata": {},
   "outputs": [
    {
     "name": "stdout",
     "output_type": "stream",
     "text": [
      "App: Angry Birds Classic\n",
      "Summary: Users still praise the core Angry Birds gameplay, nostalgia and visuals, calling it fun and addictive. However, overwhelming complaints cite intrusive, frequent and often unskippable video ads, persistent crashes/freezes that cause lost power-ups and progress, and pay-to-progress mechanics or forced grinding (stars/gems), with some reporting inappropriate ads for kids. Many reviewers say the updates ruined the experience, have uninstalled the app, and demand fixes or an ad-free paid option.\n",
      "Overall Sentiment: Negative\n",
      "---\n",
      "App: Calorie Counter - Macros\n",
      "Summary: Users consistently praise the app's simple, intuitive design and accurate macro tracking—easy logging, useful charts, custom food entry and a helpful barcode scanner—and many prefer it to alternatives. However, reliability is a major complaint: frequent crashes, loading/data-sync and online search/barcode failures after updates or phone changes, lost entries and limited editing/weight/net-carb features frustrate users.\n",
      "Overall Sentiment: Positive\n",
      "---\n",
      "App: ColorNote Notepad Notes\n",
      "Summary: Users overwhelmingly praise the app for its simplicity, fast checklist functionality, color-coding, widgets and reliable auto-save/backup which helps forgetful users and enables easy syncing between devices. Common complaints center on intermittent sync/backup failures and data loss when changing phones or after updates, password recovery/locked-note problems, reminder/notification and widget bugs, and missing features like undo, images/voice notes or calendar sharing. Despite these issues most users remain highly satisfied and depend on the app daily.\n",
      "Overall Sentiment: Positive\n",
      "---\n",
      "App: Facebook\n",
      "Summary: Most users still value Facebook for staying connected with friends and family, but overwhelmingly criticize recent updates and changes. Reviews report frequent crashes and loading/blank-screen issues, broken notifications and chronological \"Most Recent\" feed ordering, removed or regressed features (photo uploads, albums, external browser, marketplace), unwanted auto‑updates, intrusive ads and privacy/censorship concerns, leaving users frustrated and threatening to uninstall.\n",
      "Overall Sentiment: Negative\n",
      "---\n"
     ]
    }
   ],
   "source": [
    "def summarize_app_reviews(app_name, reviews_text):\n",
    "    prompt = (\n",
    "        \"You are an expert sentiment analyst for Google Play Store app reviews. \"\n",
    "        \"Given multiple user reviews for an app, respond ONLY with a valid JSON object with two fields: \"\n",
    "        \"'summary' (2-3 sentences summarizing common praise, complaints, and overall sentiment), \"\n",
    "        \"and 'overall_sentiment' (one of 'Positive', 'Neutral', 'Negative'). \"\n",
    "        \"Example: {\\\"summary\\\": \\\"Users love the intuitive interface but complain about ads.\\\", \\\"overall_sentiment\\\": \\\"Positive\\\"}\"\n",
    "    )\n",
    "    try:\n",
    "        response = client.responses.create(\n",
    "            model=\"gpt-5-mini\",\n",
    "            input=[\n",
    "                {\"role\": \"developer\", \"content\": prompt},\n",
    "                {\"role\": \"user\", \"content\": reviews_text}\n",
    "            ],\n",
    "            reasoning={\"effort\": \"medium\"}\n",
    "        )\n",
    "        # Parse JSON output from LLM\n",
    "        try:\n",
    "            result = json.loads(response.output_text)\n",
    "            return result\n",
    "        except Exception as parse_err:\n",
    "            print(\"JSON parse error:\", parse_err)\n",
    "            print(\"Raw output:\", response.output_text)\n",
    "            return None\n",
    "    except Exception as e:\n",
    "        print(\"API call failed:\", e)\n",
    "        return None\n",
    "\n",
    "# Summarize for each selected app\n",
    "for idx, row in selected_reviews.iterrows():\n",
    "    result = summarize_app_reviews(row['App'], row['Reviews_for_LLM'])\n",
    "    print(f\"App: {row['App']}\\nSummary: {result.get('summary')}\\nOverall Sentiment: {result.get('overall_sentiment')}\\n---\")"
   ]
  },
  {
   "cell_type": "markdown",
   "id": "e0b5c95b",
   "metadata": {},
   "source": [
    "## Synthetic User Data & Recommendation System"
   ]
  },
  {
   "cell_type": "markdown",
   "id": "96b694a5",
   "metadata": {},
   "source": [
    "### Synthetic User-App Dataset Creation"
   ]
  },
  {
   "cell_type": "code",
   "execution_count": 82,
   "id": "ccf57992",
   "metadata": {},
   "outputs": [
    {
     "name": "stdout",
     "output_type": "stream",
     "text": [
      "     User                                             App\n",
      "0  user_1                        GasBuddy: Find Cheap Gas\n",
      "1  user_1                   Fraction Calculator Plus Free\n",
      "2  user_1  Hotspot Shield Free VPN Proxy & Wi-Fi Security\n",
      "3  user_1                      ABC News - US & World News\n",
      "4  user_1                    FastMeet: Chat, Dating, Love\n",
      "Shape: (960, 2)\n"
     ]
    }
   ],
   "source": [
    "import numpy as np\n",
    "\n",
    "# apps that have at least one negative review in English\n",
    "neg_review_counts = ps_review_df_en[ps_review_df_en['Sentiment'] == 'Negative']['App'].value_counts()\n",
    "apps_with_50_neg_reviews = neg_review_counts[neg_review_counts >= 50].index\n",
    "\n",
    "num_users = 12  \n",
    "user_ids = [f\"user_{i+1}\" for i in range(num_users)]  \n",
    "\n",
    "synthetic_data = []\n",
    "for user in user_ids:\n",
    "    # Randomly choose number of installed apps for each user (between 60 and 100)\n",
    "    num_installed = np.random.randint(60, 101)\n",
    "    # Randomly select installed apps for this user\n",
    "    installed_apps = np.random.choice(apps_with_neg_reviews, size=num_installed, replace=False)\n",
    "    # Add each (user, app) pair to the dataset\n",
    "    for app in installed_apps:\n",
    "        synthetic_data.append({\"User\": user, \"App\": app})\n",
    "\n",
    "# Final Synthetic Dataset\n",
    "synthetic_df = pd.DataFrame(synthetic_data)\n",
    "\n",
    "print(synthetic_df.head())\n",
    "print(f\"Shape: {synthetic_df.shape}\")"
   ]
  },
  {
   "cell_type": "code",
   "execution_count": 83,
   "id": "24c5dfa6",
   "metadata": {},
   "outputs": [
    {
     "data": {
      "text/html": [
       "<div>\n",
       "<style scoped>\n",
       "    .dataframe tbody tr th:only-of-type {\n",
       "        vertical-align: middle;\n",
       "    }\n",
       "\n",
       "    .dataframe tbody tr th {\n",
       "        vertical-align: top;\n",
       "    }\n",
       "\n",
       "    .dataframe thead th {\n",
       "        text-align: right;\n",
       "    }\n",
       "</style>\n",
       "<table border=\"1\" class=\"dataframe\">\n",
       "  <thead>\n",
       "    <tr style=\"text-align: right;\">\n",
       "      <th></th>\n",
       "      <th>User</th>\n",
       "      <th>App</th>\n",
       "      <th>Category</th>\n",
       "      <th>Rating</th>\n",
       "    </tr>\n",
       "  </thead>\n",
       "  <tbody>\n",
       "    <tr>\n",
       "      <th>0</th>\n",
       "      <td>user_1</td>\n",
       "      <td>GasBuddy: Find Cheap Gas</td>\n",
       "      <td>TRAVEL_AND_LOCAL</td>\n",
       "      <td>4.6</td>\n",
       "    </tr>\n",
       "    <tr>\n",
       "      <th>1</th>\n",
       "      <td>user_1</td>\n",
       "      <td>Fraction Calculator Plus Free</td>\n",
       "      <td>TOOLS</td>\n",
       "      <td>4.5</td>\n",
       "    </tr>\n",
       "    <tr>\n",
       "      <th>2</th>\n",
       "      <td>user_1</td>\n",
       "      <td>Hotspot Shield Free VPN Proxy &amp; Wi-Fi Security</td>\n",
       "      <td>TOOLS</td>\n",
       "      <td>4.2</td>\n",
       "    </tr>\n",
       "    <tr>\n",
       "      <th>3</th>\n",
       "      <td>user_1</td>\n",
       "      <td>ABC News - US &amp; World News</td>\n",
       "      <td>NEWS_AND_MAGAZINES</td>\n",
       "      <td>4.0</td>\n",
       "    </tr>\n",
       "    <tr>\n",
       "      <th>4</th>\n",
       "      <td>user_1</td>\n",
       "      <td>FastMeet: Chat, Dating, Love</td>\n",
       "      <td>DATING</td>\n",
       "      <td>4.2</td>\n",
       "    </tr>\n",
       "    <tr>\n",
       "      <th>...</th>\n",
       "      <td>...</td>\n",
       "      <td>...</td>\n",
       "      <td>...</td>\n",
       "      <td>...</td>\n",
       "    </tr>\n",
       "    <tr>\n",
       "      <th>955</th>\n",
       "      <td>user_12</td>\n",
       "      <td>BestCam Selfie-selfie, beauty camera, photo ed...</td>\n",
       "      <td>BEAUTY</td>\n",
       "      <td>3.9</td>\n",
       "    </tr>\n",
       "    <tr>\n",
       "      <th>956</th>\n",
       "      <td>user_12</td>\n",
       "      <td>All Mental disorders</td>\n",
       "      <td>MEDICAL</td>\n",
       "      <td>4.5</td>\n",
       "    </tr>\n",
       "    <tr>\n",
       "      <th>957</th>\n",
       "      <td>user_12</td>\n",
       "      <td>Experian - Free Credit Report</td>\n",
       "      <td>FINANCE</td>\n",
       "      <td>4.6</td>\n",
       "    </tr>\n",
       "    <tr>\n",
       "      <th>958</th>\n",
       "      <td>user_12</td>\n",
       "      <td>FBReader: Favorite Book Reader</td>\n",
       "      <td>BOOKS_AND_REFERENCE</td>\n",
       "      <td>4.5</td>\n",
       "    </tr>\n",
       "    <tr>\n",
       "      <th>959</th>\n",
       "      <td>user_12</td>\n",
       "      <td>Apple Daily 蘋果動新聞</td>\n",
       "      <td>NaN</td>\n",
       "      <td>NaN</td>\n",
       "    </tr>\n",
       "  </tbody>\n",
       "</table>\n",
       "<p>960 rows × 4 columns</p>\n",
       "</div>"
      ],
      "text/plain": [
       "        User                                                App  \\\n",
       "0     user_1                           GasBuddy: Find Cheap Gas   \n",
       "1     user_1                      Fraction Calculator Plus Free   \n",
       "2     user_1     Hotspot Shield Free VPN Proxy & Wi-Fi Security   \n",
       "3     user_1                         ABC News - US & World News   \n",
       "4     user_1                       FastMeet: Chat, Dating, Love   \n",
       "..       ...                                                ...   \n",
       "955  user_12  BestCam Selfie-selfie, beauty camera, photo ed...   \n",
       "956  user_12                               All Mental disorders   \n",
       "957  user_12                      Experian - Free Credit Report   \n",
       "958  user_12                     FBReader: Favorite Book Reader   \n",
       "959  user_12                                  Apple Daily 蘋果動新聞   \n",
       "\n",
       "                Category  Rating  \n",
       "0       TRAVEL_AND_LOCAL     4.6  \n",
       "1                  TOOLS     4.5  \n",
       "2                  TOOLS     4.2  \n",
       "3     NEWS_AND_MAGAZINES     4.0  \n",
       "4                 DATING     4.2  \n",
       "..                   ...     ...  \n",
       "955               BEAUTY     3.9  \n",
       "956              MEDICAL     4.5  \n",
       "957              FINANCE     4.6  \n",
       "958  BOOKS_AND_REFERENCE     4.5  \n",
       "959                  NaN     NaN  \n",
       "\n",
       "[960 rows x 4 columns]"
      ]
     },
     "execution_count": 83,
     "metadata": {},
     "output_type": "execute_result"
    }
   ],
   "source": [
    "# Merge synthetic user-app data with app metadata\n",
    "user_apps = pd.merge(synthetic_df, ps_df_clean[['App', 'Category', 'Rating']], on='App', how='left')\n",
    "user_apps"
   ]
  },
  {
   "cell_type": "markdown",
   "id": "849f116d",
   "metadata": {},
   "source": [
    "### Identifying Bad Apps for Users"
   ]
  },
  {
   "cell_type": "code",
   "execution_count": 84,
   "id": "e6e8c82e",
   "metadata": {},
   "outputs": [
    {
     "data": {
      "text/html": [
       "<div>\n",
       "<style scoped>\n",
       "    .dataframe tbody tr th:only-of-type {\n",
       "        vertical-align: middle;\n",
       "    }\n",
       "\n",
       "    .dataframe tbody tr th {\n",
       "        vertical-align: top;\n",
       "    }\n",
       "\n",
       "    .dataframe thead th {\n",
       "        text-align: right;\n",
       "    }\n",
       "</style>\n",
       "<table border=\"1\" class=\"dataframe\">\n",
       "  <thead>\n",
       "    <tr style=\"text-align: right;\">\n",
       "      <th></th>\n",
       "      <th>User</th>\n",
       "      <th>App</th>\n",
       "      <th>Category</th>\n",
       "      <th>Rating</th>\n",
       "    </tr>\n",
       "  </thead>\n",
       "  <tbody>\n",
       "    <tr>\n",
       "      <th>146</th>\n",
       "      <td>user_2</td>\n",
       "      <td>Free Dating Hook Up Messenger</td>\n",
       "      <td>DATING</td>\n",
       "      <td>3.3</td>\n",
       "    </tr>\n",
       "    <tr>\n",
       "      <th>161</th>\n",
       "      <td>user_2</td>\n",
       "      <td>Entel</td>\n",
       "      <td>LIFESTYLE</td>\n",
       "      <td>3.2</td>\n",
       "    </tr>\n",
       "    <tr>\n",
       "      <th>169</th>\n",
       "      <td>user_2</td>\n",
       "      <td>Free Foreclosure Real Estate Search by USHUD.com</td>\n",
       "      <td>HOUSE_AND_HOME</td>\n",
       "      <td>3.4</td>\n",
       "    </tr>\n",
       "    <tr>\n",
       "      <th>283</th>\n",
       "      <td>user_4</td>\n",
       "      <td>HTC Sense Input</td>\n",
       "      <td>TOOLS</td>\n",
       "      <td>3.4</td>\n",
       "    </tr>\n",
       "    <tr>\n",
       "      <th>321</th>\n",
       "      <td>user_5</td>\n",
       "      <td>Baseball Boy!</td>\n",
       "      <td>GAME</td>\n",
       "      <td>3.4</td>\n",
       "    </tr>\n",
       "    <tr>\n",
       "      <th>369</th>\n",
       "      <td>user_5</td>\n",
       "      <td>ColorSnap® Visualizer</td>\n",
       "      <td>HOUSE_AND_HOME</td>\n",
       "      <td>3.4</td>\n",
       "    </tr>\n",
       "    <tr>\n",
       "      <th>431</th>\n",
       "      <td>user_6</td>\n",
       "      <td>Free Foreclosure Real Estate Search by USHUD.com</td>\n",
       "      <td>HOUSE_AND_HOME</td>\n",
       "      <td>3.4</td>\n",
       "    </tr>\n",
       "    <tr>\n",
       "      <th>445</th>\n",
       "      <td>user_6</td>\n",
       "      <td>Free Dating Hook Up Messenger</td>\n",
       "      <td>DATING</td>\n",
       "      <td>3.3</td>\n",
       "    </tr>\n",
       "    <tr>\n",
       "      <th>463</th>\n",
       "      <td>user_6</td>\n",
       "      <td>Entel</td>\n",
       "      <td>LIFESTYLE</td>\n",
       "      <td>3.2</td>\n",
       "    </tr>\n",
       "    <tr>\n",
       "      <th>466</th>\n",
       "      <td>user_6</td>\n",
       "      <td>Anthem BC Anywhere</td>\n",
       "      <td>MEDICAL</td>\n",
       "      <td>2.6</td>\n",
       "    </tr>\n",
       "    <tr>\n",
       "      <th>491</th>\n",
       "      <td>user_7</td>\n",
       "      <td>ColorSnap® Visualizer</td>\n",
       "      <td>HOUSE_AND_HOME</td>\n",
       "      <td>3.4</td>\n",
       "    </tr>\n",
       "    <tr>\n",
       "      <th>597</th>\n",
       "      <td>user_8</td>\n",
       "      <td>BeWild Free Dating &amp; Chat App</td>\n",
       "      <td>DATING</td>\n",
       "      <td>3.4</td>\n",
       "    </tr>\n",
       "    <tr>\n",
       "      <th>616</th>\n",
       "      <td>user_9</td>\n",
       "      <td>HTC Mail</td>\n",
       "      <td>PRODUCTIVITY</td>\n",
       "      <td>3.1</td>\n",
       "    </tr>\n",
       "    <tr>\n",
       "      <th>618</th>\n",
       "      <td>user_9</td>\n",
       "      <td>BBC Media Player</td>\n",
       "      <td>ENTERTAINMENT</td>\n",
       "      <td>3.4</td>\n",
       "    </tr>\n",
       "    <tr>\n",
       "      <th>682</th>\n",
       "      <td>user_9</td>\n",
       "      <td>Baseball Boy!</td>\n",
       "      <td>GAME</td>\n",
       "      <td>3.4</td>\n",
       "    </tr>\n",
       "    <tr>\n",
       "      <th>718</th>\n",
       "      <td>user_10</td>\n",
       "      <td>Acorn TV: World-class TV from Britain and Beyond</td>\n",
       "      <td>ENTERTAINMENT</td>\n",
       "      <td>3.0</td>\n",
       "    </tr>\n",
       "    <tr>\n",
       "      <th>728</th>\n",
       "      <td>user_10</td>\n",
       "      <td>Baseball Boy!</td>\n",
       "      <td>GAME</td>\n",
       "      <td>3.4</td>\n",
       "    </tr>\n",
       "    <tr>\n",
       "      <th>741</th>\n",
       "      <td>user_10</td>\n",
       "      <td>ConnectLine</td>\n",
       "      <td>MEDICAL</td>\n",
       "      <td>3.1</td>\n",
       "    </tr>\n",
       "    <tr>\n",
       "      <th>745</th>\n",
       "      <td>user_10</td>\n",
       "      <td>HTC Mail</td>\n",
       "      <td>PRODUCTIVITY</td>\n",
       "      <td>3.1</td>\n",
       "    </tr>\n",
       "    <tr>\n",
       "      <th>779</th>\n",
       "      <td>user_10</td>\n",
       "      <td>App vault</td>\n",
       "      <td>TOOLS</td>\n",
       "      <td>3.4</td>\n",
       "    </tr>\n",
       "    <tr>\n",
       "      <th>790</th>\n",
       "      <td>user_11</td>\n",
       "      <td>Free Foreclosure Real Estate Search by USHUD.com</td>\n",
       "      <td>HOUSE_AND_HOME</td>\n",
       "      <td>3.4</td>\n",
       "    </tr>\n",
       "    <tr>\n",
       "      <th>817</th>\n",
       "      <td>user_11</td>\n",
       "      <td>Anthem Anywhere</td>\n",
       "      <td>MEDICAL</td>\n",
       "      <td>2.7</td>\n",
       "    </tr>\n",
       "    <tr>\n",
       "      <th>838</th>\n",
       "      <td>user_11</td>\n",
       "      <td>Acorn TV: World-class TV from Britain and Beyond</td>\n",
       "      <td>ENTERTAINMENT</td>\n",
       "      <td>3.0</td>\n",
       "    </tr>\n",
       "    <tr>\n",
       "      <th>867</th>\n",
       "      <td>user_11</td>\n",
       "      <td>Entel</td>\n",
       "      <td>LIFESTYLE</td>\n",
       "      <td>3.2</td>\n",
       "    </tr>\n",
       "    <tr>\n",
       "      <th>953</th>\n",
       "      <td>user_12</td>\n",
       "      <td>BBC Media Player</td>\n",
       "      <td>ENTERTAINMENT</td>\n",
       "      <td>3.4</td>\n",
       "    </tr>\n",
       "    <tr>\n",
       "      <th>954</th>\n",
       "      <td>user_12</td>\n",
       "      <td>Free Foreclosure Real Estate Search by USHUD.com</td>\n",
       "      <td>HOUSE_AND_HOME</td>\n",
       "      <td>3.4</td>\n",
       "    </tr>\n",
       "  </tbody>\n",
       "</table>\n",
       "</div>"
      ],
      "text/plain": [
       "        User                                               App  \\\n",
       "146   user_2                     Free Dating Hook Up Messenger   \n",
       "161   user_2                                             Entel   \n",
       "169   user_2  Free Foreclosure Real Estate Search by USHUD.com   \n",
       "283   user_4                                   HTC Sense Input   \n",
       "321   user_5                                     Baseball Boy!   \n",
       "369   user_5                             ColorSnap® Visualizer   \n",
       "431   user_6  Free Foreclosure Real Estate Search by USHUD.com   \n",
       "445   user_6                     Free Dating Hook Up Messenger   \n",
       "463   user_6                                             Entel   \n",
       "466   user_6                                Anthem BC Anywhere   \n",
       "491   user_7                             ColorSnap® Visualizer   \n",
       "597   user_8                     BeWild Free Dating & Chat App   \n",
       "616   user_9                                          HTC Mail   \n",
       "618   user_9                                  BBC Media Player   \n",
       "682   user_9                                     Baseball Boy!   \n",
       "718  user_10  Acorn TV: World-class TV from Britain and Beyond   \n",
       "728  user_10                                     Baseball Boy!   \n",
       "741  user_10                                       ConnectLine   \n",
       "745  user_10                                          HTC Mail   \n",
       "779  user_10                                         App vault   \n",
       "790  user_11  Free Foreclosure Real Estate Search by USHUD.com   \n",
       "817  user_11                                   Anthem Anywhere   \n",
       "838  user_11  Acorn TV: World-class TV from Britain and Beyond   \n",
       "867  user_11                                             Entel   \n",
       "953  user_12                                  BBC Media Player   \n",
       "954  user_12  Free Foreclosure Real Estate Search by USHUD.com   \n",
       "\n",
       "           Category  Rating  \n",
       "146          DATING     3.3  \n",
       "161       LIFESTYLE     3.2  \n",
       "169  HOUSE_AND_HOME     3.4  \n",
       "283           TOOLS     3.4  \n",
       "321            GAME     3.4  \n",
       "369  HOUSE_AND_HOME     3.4  \n",
       "431  HOUSE_AND_HOME     3.4  \n",
       "445          DATING     3.3  \n",
       "463       LIFESTYLE     3.2  \n",
       "466         MEDICAL     2.6  \n",
       "491  HOUSE_AND_HOME     3.4  \n",
       "597          DATING     3.4  \n",
       "616    PRODUCTIVITY     3.1  \n",
       "618   ENTERTAINMENT     3.4  \n",
       "682            GAME     3.4  \n",
       "718   ENTERTAINMENT     3.0  \n",
       "728            GAME     3.4  \n",
       "741         MEDICAL     3.1  \n",
       "745    PRODUCTIVITY     3.1  \n",
       "779           TOOLS     3.4  \n",
       "790  HOUSE_AND_HOME     3.4  \n",
       "817         MEDICAL     2.7  \n",
       "838   ENTERTAINMENT     3.0  \n",
       "867       LIFESTYLE     3.2  \n",
       "953   ENTERTAINMENT     3.4  \n",
       "954  HOUSE_AND_HOME     3.4  "
      ]
     },
     "execution_count": 84,
     "metadata": {},
     "output_type": "execute_result"
    }
   ],
   "source": [
    "bad_rating_threshold = 3.5\n",
    "good_rating_threshold = 4.0\n",
    "\n",
    "# Find bad apps for each user\n",
    "bad_apps = user_apps[user_apps['Rating'] < bad_rating_threshold]\n",
    "bad_apps"
   ]
  },
  {
   "cell_type": "markdown",
   "id": "d588359a",
   "metadata": {},
   "source": [
    "## LLM-Powered App Recommendation"
   ]
  },
  {
   "cell_type": "markdown",
   "id": "88fc356d",
   "metadata": {},
   "source": [
    "### Candidate Replacement App Selection"
   ]
  },
  {
   "cell_type": "code",
   "execution_count": 92,
   "id": "9c429c93",
   "metadata": {},
   "outputs": [
    {
     "name": "stdout",
     "output_type": "stream",
     "text": [
      "User: user_11 | Bad app: Free Foreclosure Real Estate Search by USHUD.com | Category: HOUSE_AND_HOME | Rating: 3.4000000953674316\n"
     ]
    }
   ],
   "source": [
    "# Select a user and one bad app\n",
    "user_id = \"user_11\"\n",
    "user_bad_apps = bad_apps[bad_apps['User'] == user_id]\n",
    "bad_app_row = user_bad_apps.iloc[0]\n",
    "bad_app = bad_app_row['App']\n",
    "category = bad_app_row['Category']\n",
    "bad_rating = bad_app_row['Rating']\n",
    "\n",
    "print(f\"User: {user_id} | Bad app: {bad_app} | Category: {category} | Rating: {bad_rating}\")"
   ]
  },
  {
   "cell_type": "code",
   "execution_count": 93,
   "id": "835c53b2",
   "metadata": {},
   "outputs": [
    {
     "name": "stdout",
     "output_type": "stream",
     "text": [
      "User's complaints: ['Outdated information. None houses listed still sale.', 'Database outdated. Still shows homes sale sold 2016 2017. This 2018 houses sale.', 'Worst software ever typical govt. Websites.', 'The site potential good please work bugs. The crashing images showing slow loading. thing internet connection bad.', 'This worst... It freezes stop working searching home. Also give rental listing homes... NOT IS AS THEY SAY!!!! LIES!!!!!', 'Garbage. Won\\'t even get past County section searching. If hit back button, it\\'ll give menu, features \"to added\".', 'The homes date work properly. Horrible. Do waste time app.', 'I came see foreclosures, put limit 200,000$, took little two minutes load... guess I saw... eight houses construction, currently built... called foreclosures yet show them, would show regular houses??? Horrible!', 'The information ridiculously outdated. Then crashed. Attempted contact developer could find option so. Uninstalling!', \"Might useless software ever. Won't even launch properly, gives search error startup.\", 'Horribly slow app. Wi-Fi data, loads slow times out.', 'What waste time. Keep crashing. Everytime run runs scratch.']\n"
     ]
    }
   ],
   "source": [
    "# Get user's negative reviews for the bad app\n",
    "user_neg_reviews = ps_review_df_en[\n",
    "    (ps_review_df_en['App'] == bad_app) &\n",
    "    (ps_review_df_en['Sentiment'] == 'Negative')\n",
    "]['Translated_Review'].tolist()\n",
    "print(\"User's complaints:\", user_neg_reviews)"
   ]
  },
  {
   "cell_type": "code",
   "execution_count": 94,
   "id": "035a12cf",
   "metadata": {},
   "outputs": [
    {
     "name": "stdout",
     "output_type": "stream",
     "text": [
      "Candidate apps: ['Room planner: Interior & Floorplan Design for IKEA', 'Apartment List: Housing, Apt, and Property Rentals', 'House app: beautiful everyday ~']\n"
     ]
    }
   ],
   "source": [
    "# Find candidate replacement apps in the same category\n",
    "\n",
    "candidates = ps_df_clean[\n",
    "    (ps_df_clean['Category'] == category) &\n",
    "    (ps_df_clean['Rating'] >= good_rating_threshold)\n",
    "]\n",
    "already_installed = user_apps[user_apps['User'] == user_id]['App'].values\n",
    "candidates = candidates[~candidates['App'].isin(already_installed)]\n",
    "print(\"Candidate apps:\", candidates['App'].head(3).tolist())"
   ]
  },
  {
   "cell_type": "markdown",
   "id": "cb625bac",
   "metadata": {},
   "source": [
    "### Scoring Candidate Apps with LLM"
   ]
  },
  {
   "cell_type": "code",
   "execution_count": 99,
   "id": "93b66c78",
   "metadata": {},
   "outputs": [
    {
     "name": "stdout",
     "output_type": "stream",
     "text": [
      "Candidate: Room planner: Interior & Floorplan Design for IKEA | Score: 1 | Reason: Room Planner is an interior design/floorplan app, not a real-estate or foreclosure search tool, so it will not address the user’s core complaints about outdated listings, search errors, or missing foreclosure data. While it might be more stable or visually polished, it’s not a suitable replacement for a property-search app.\n",
      "\n",
      "Candidate: Apartment List: Housing, Apt, and Property Rentals | Score: 7 | Reason: Apartment List has many positive reviews praising stability, fast loading, up-to-date listings, and easy-to-use search and contact features, so it would likely resolve the crashes, slowness, and stale-data problems. However, it is primarily focused on rentals and apartment hunting rather than foreclosure sales, so it may not satisfy a user specifically seeking foreclosure listings.\n",
      "\n",
      "Candidate: House app: beautiful everyday ~ | Score: 1 | Reason: The candidate app appears to be a general home/beauty inspiration app rather than a foreclosure/property search tool, and there are no positive reviews indicating it fixes data accuracy, search reliability, or crash/performance issues. It is unlikely to address the user’s specific complaints about outdated listings, freezing, and slow or failed searches.\n",
      "\n"
     ]
    }
   ],
   "source": [
    "results = []\n",
    "for idx, row in candidates.head(3).iterrows():\n",
    "    cand_app = row['App']\n",
    "    cand_rating = row['Rating']\n",
    "    pos_reviews = ps_review_df_en[\n",
    "        (ps_review_df_en['App'] == cand_app) &\n",
    "        (ps_review_df_en['Sentiment'] == 'Positive')\n",
    "    ]['Translated_Review'].tolist()\n",
    "\n",
    "    prompt = (\n",
    "        \"You are an expert app recommender for Google Play Store. \"\n",
    "        f\"A user is unhappy with app '{bad_app}' (Category: {category}, Rating: {bad_rating}).\\n\"\n",
    "        f\"Here are their main complaints:\\n{user_neg_reviews}\\n\"\n",
    "        f\"Here are positive reviews for candidate app '{cand_app}':\\n{pos_reviews}\\n\"\n",
    "        \"Based on the user's complaints and the candidate app's positive reviews, \"\n",
    "        \"does this candidate app address the user's issues or offer a better experience? \"\n",
    "        \"Respond ONLY with a valid JSON object with two fields: \"\n",
    "        \"'score' (integer 0-10, higher means better recommendation), and \"\n",
    "        \"'reason' (2-3 sentences explaining your score and why this app is or isn't a good replacement). \"\n",
    "        \"Example: {\\\"score\\\": 8, \\\"reason\\\": \\\"This app has many positive reviews about stability and features the user wants. It is likely to solve their complaints.\\\"}\"\n",
    "    )\n",
    "\n",
    "    response = client.responses.create(\n",
    "        model=\"gpt-5-mini\",\n",
    "        input=[{\"role\": \"developer\", \"content\": prompt}],\n",
    "        reasoning={\"effort\": \"medium\"}\n",
    "    )\n",
    "    import json\n",
    "    result = json.loads(response.output_text)\n",
    "    print(f\"Candidate: {cand_app} | Score: {result.get('score')} | Reason: {result.get('reason')}\\n\")\n",
    "    results.append({\"App\": cand_app, \"Score\": result.get('score'), \"Reason\": result.get('reason')})"
   ]
  },
  {
   "cell_type": "markdown",
   "id": "c42a3b38",
   "metadata": {},
   "source": [
    "### Selecting the Best Recommendation"
   ]
  },
  {
   "cell_type": "code",
   "execution_count": 100,
   "id": "b402a903",
   "metadata": {},
   "outputs": [
    {
     "name": "stdout",
     "output_type": "stream",
     "text": [
      "\n",
      "Best Recommendation for user 'user_11':\n",
      "App: Apartment List: Housing, Apt, and Property Rentals\n",
      "Score: 7\n",
      "Reason: Apartment List has many positive reviews praising stability, fast loading, up-to-date listings, and easy-to-use search and contact features, so it would likely resolve the crashes, slowness, and stale-data problems. However, it is primarily focused on rentals and apartment hunting rather than foreclosure sales, so it may not satisfy a user specifically seeking foreclosure listings.\n"
     ]
    }
   ],
   "source": [
    "# Select best candidate\n",
    "if results:\n",
    "    best = max(results, key=lambda x: x['Score'])\n",
    "    print(f\"\\nBest Recommendation for user '{user_id}':\")\n",
    "    print(f\"App: {best['App']}\\nScore: {best['Score']}\\nReason: {best['Reason']}\")\n",
    "else:\n",
    "    print(\"No suitable candidate found.\")"
   ]
  },
  {
   "cell_type": "markdown",
   "id": "ded95dca",
   "metadata": {},
   "source": [
    "# Conclusion"
   ]
  },
  {
   "cell_type": "markdown",
   "id": "841b1b43",
   "metadata": {},
   "source": [
    "###  Key Findings\n",
    "\n",
    "- Most apps have high ratings\n",
    "- The majority of reviews are positive.\n",
    "- Naive Bayes performs well for positive sentiment, but struggles with neutral/negative.\n",
    "- LLMs provide more nuanced and reliable sentiment classification and recommendations.\n",
    "- LLM-based recommendations can effectively match user complaints to better apps.\n",
    "\n",
    "### Limitations\n",
    "\n",
    "- Public datasets may contain noisy or mislabeled reviews.\n",
    "- Sentiment models are limited by training data quality and class imbalance.\n",
    "- Synthetic user data does not reflect real user behavior.\n",
    "\n",
    "### Future Work\n",
    "\n",
    "- Try with recommendation algorithms (collaborative filtering etc).\n",
    "- Deploy as a web app for interactive recommendations."
   ]
  }
 ],
 "metadata": {
  "kernelspec": {
   "display_name": "gapps_sentiment_analysis",
   "language": "python",
   "name": "python3"
  },
  "language_info": {
   "codemirror_mode": {
    "name": "ipython",
    "version": 3
   },
   "file_extension": ".py",
   "mimetype": "text/x-python",
   "name": "python",
   "nbconvert_exporter": "python",
   "pygments_lexer": "ipython3",
   "version": "3.13.7"
  }
 },
 "nbformat": 4,
 "nbformat_minor": 5
}
